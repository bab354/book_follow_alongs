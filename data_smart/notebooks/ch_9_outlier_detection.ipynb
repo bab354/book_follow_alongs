{
 "cells": [
  {
   "cell_type": "markdown",
   "metadata": {},
   "source": [
    "### First Simple way to detect - Tukey Fences\n",
    "\n",
    "Upper Inner Fence = 3rd Quartile + 1.5 * IQR \n",
    "Lower Inner Fence = 1st Quartile - 1.5 * IQR\n",
    "\n",
    "\n",
    "Upper Outer Fence = 3rd Quartile + 3 * IQR \n",
    "Lower Outer Fence = 1st Quartile - 3 * IQR\n",
    "\n",
    "Problem with this approach, this appraoch works because it makes assumptions about the data and assumes these values are highly unlikely but the data have to be normally distributed.\n",
    "\n",
    "Also take Gimli from LotR (book uses this examples). In the fellowship, you have a group of small hobbts, and a group of tall men / elves. Gimli is is between. So outliers don't necessarily have to live at the edges"
   ]
  },
  {
   "cell_type": "markdown",
   "metadata": {},
   "source": [
    "### Basic Premise of using knn for outlier detection -\n",
    "\n",
    "Calculate all pairwise distances.\n",
    "Then you keep only k closes neighbors\n",
    "\n",
    "Inutitively, outliers shouldn't really remain in anyone's list of neighbors.\n",
    "\n",
    "So if you picture nodes and edges where nodes are people or data points and then edges are what remain after you purne to only, outliers will be nodes in the graph will low indegree (low number of edges)\n",
    "\n",
    "\n",
    "Author first starts by finding two people who aren't even in anyone's list even when doing a 20NN\n",
    "\n",
    "so that's method # 1 - just lookin at how doesn't show up even with a larg ek\n",
    "\n",
    "Problem with appraoch - kind of just randomly, should I look at 5NN, 10NN, 20NN. Even if you settle it, get a list of 2 where both don't have any edges, but who's more of an outlier.\n",
    "\n",
    "Better appraoch - use k-distance or distance to the kth neighbor\n",
    "\n",
    "This appraoch gives you a quantitaive measure where you can now compare those two points and see those two employees (will code below) have a much higher k-distance than huge drop off\n",
    "\n",
    "Problem with this - similiar to Tukey fences, will find data points in boonies but what about data that is close to other points but still sits by itself in n-dimensional space\n",
    "\n",
    "\n",
    "So instead you use this:\n",
    "Local Outlier Factors\n",
    "\n",
    "It essentially normalizes data to be around 1, so closer to 1 the more ordinary the point is As the score increases, point should b econsidered less typical and more like an outlier.\n",
    "\n",
    "Unlike k-distance, 1 is typical does not change, regardless of graph which is really  nice\n",
    "\n",
    "High - level:\n",
    "You are an outlier if your k nearest neibhbors consider you farther away than their neighbors consider them.\n",
    "\n",
    "So image you are a trailer living in a nice community.  Sure in k-distance you may be ranked closer than the trailer across town, but in all dimensions those uniform houses in that community will have such small distances to each other relative to you (thinking not just geographic distance but features of the house etc to get kNN distance) that you will get a really high score.\n",
    "\n",
    "So essentially this punishes points that sit realtive close in k-dimensional space but still stand-alone"
   ]
  },
  {
   "cell_type": "code",
   "execution_count": 1,
   "metadata": {},
   "outputs": [],
   "source": [
    "import pandas as pd\n",
    "import matplotlib.pyplot as plt\n",
    "import numpy as np\n",
    "import pyod"
   ]
  },
  {
   "cell_type": "code",
   "execution_count": 2,
   "metadata": {},
   "outputs": [],
   "source": [
    "excel_file_obj = pd.ExcelFile(\"../raw_data/SupportCenter.xlsx\")\n",
    "# Information on the type of offers\n",
    "support_df = pd.read_excel(excel_file_obj, \"SupportPersonnel\", nrows=400)"
   ]
  },
  {
   "cell_type": "code",
   "execution_count": 3,
   "metadata": {},
   "outputs": [
    {
     "data": {
      "text/html": [
       "<div>\n",
       "<style scoped>\n",
       "    .dataframe tbody tr th:only-of-type {\n",
       "        vertical-align: middle;\n",
       "    }\n",
       "\n",
       "    .dataframe tbody tr th {\n",
       "        vertical-align: top;\n",
       "    }\n",
       "\n",
       "    .dataframe thead th {\n",
       "        text-align: right;\n",
       "    }\n",
       "</style>\n",
       "<table border=\"1\" class=\"dataframe\">\n",
       "  <thead>\n",
       "    <tr style=\"text-align: right;\">\n",
       "      <th></th>\n",
       "      <th>Employee ID</th>\n",
       "      <th>Avg Tix / Day</th>\n",
       "      <th>Customer rating</th>\n",
       "      <th>Tardies</th>\n",
       "      <th>Graveyard Shifts Taken</th>\n",
       "      <th>Weekend Shifts Taken</th>\n",
       "      <th>Sick Days Taken</th>\n",
       "      <th>% Sick Days Taken on Friday</th>\n",
       "      <th>Employee Dev. Hours</th>\n",
       "      <th>Shift Swaps Requested</th>\n",
       "      <th>Shift Swaps Offered</th>\n",
       "    </tr>\n",
       "  </thead>\n",
       "  <tbody>\n",
       "    <tr>\n",
       "      <th>395</th>\n",
       "      <td>139820</td>\n",
       "      <td>162.6</td>\n",
       "      <td>3.373240</td>\n",
       "      <td>2</td>\n",
       "      <td>3</td>\n",
       "      <td>1</td>\n",
       "      <td>1</td>\n",
       "      <td>1.00</td>\n",
       "      <td>6</td>\n",
       "      <td>1</td>\n",
       "      <td>3</td>\n",
       "    </tr>\n",
       "    <tr>\n",
       "      <th>396</th>\n",
       "      <td>144780</td>\n",
       "      <td>159.6</td>\n",
       "      <td>3.504737</td>\n",
       "      <td>1</td>\n",
       "      <td>2</td>\n",
       "      <td>1</td>\n",
       "      <td>2</td>\n",
       "      <td>0.00</td>\n",
       "      <td>15</td>\n",
       "      <td>1</td>\n",
       "      <td>1</td>\n",
       "    </tr>\n",
       "    <tr>\n",
       "      <th>397</th>\n",
       "      <td>138420</td>\n",
       "      <td>155.4</td>\n",
       "      <td>4.285959</td>\n",
       "      <td>3</td>\n",
       "      <td>3</td>\n",
       "      <td>1</td>\n",
       "      <td>2</td>\n",
       "      <td>0.50</td>\n",
       "      <td>18</td>\n",
       "      <td>1</td>\n",
       "      <td>3</td>\n",
       "    </tr>\n",
       "    <tr>\n",
       "      <th>398</th>\n",
       "      <td>131547</td>\n",
       "      <td>150.7</td>\n",
       "      <td>3.986004</td>\n",
       "      <td>1</td>\n",
       "      <td>2</td>\n",
       "      <td>1</td>\n",
       "      <td>4</td>\n",
       "      <td>0.25</td>\n",
       "      <td>30</td>\n",
       "      <td>2</td>\n",
       "      <td>3</td>\n",
       "    </tr>\n",
       "    <tr>\n",
       "      <th>399</th>\n",
       "      <td>137942</td>\n",
       "      <td>160.6</td>\n",
       "      <td>3.874964</td>\n",
       "      <td>1</td>\n",
       "      <td>1</td>\n",
       "      <td>1</td>\n",
       "      <td>2</td>\n",
       "      <td>1.00</td>\n",
       "      <td>16</td>\n",
       "      <td>1</td>\n",
       "      <td>0</td>\n",
       "    </tr>\n",
       "  </tbody>\n",
       "</table>\n",
       "</div>"
      ],
      "text/plain": [
       "     Employee ID  Avg Tix / Day  Customer rating  Tardies  \\\n",
       "395       139820          162.6         3.373240        2   \n",
       "396       144780          159.6         3.504737        1   \n",
       "397       138420          155.4         4.285959        3   \n",
       "398       131547          150.7         3.986004        1   \n",
       "399       137942          160.6         3.874964        1   \n",
       "\n",
       "     Graveyard Shifts Taken  Weekend Shifts Taken  Sick Days Taken  \\\n",
       "395                       3                     1                1   \n",
       "396                       2                     1                2   \n",
       "397                       3                     1                2   \n",
       "398                       2                     1                4   \n",
       "399                       1                     1                2   \n",
       "\n",
       "     % Sick Days Taken on Friday  Employee Dev. Hours  Shift Swaps Requested  \\\n",
       "395                         1.00                    6                      1   \n",
       "396                         0.00                   15                      1   \n",
       "397                         0.50                   18                      1   \n",
       "398                         0.25                   30                      2   \n",
       "399                         1.00                   16                      1   \n",
       "\n",
       "     Shift Swaps Offered  \n",
       "395                    3  \n",
       "396                    1  \n",
       "397                    3  \n",
       "398                    3  \n",
       "399                    0  "
      ]
     },
     "execution_count": 3,
     "metadata": {},
     "output_type": "execute_result"
    }
   ],
   "source": [
    "support_df.tail()"
   ]
  },
  {
   "cell_type": "code",
   "execution_count": 4,
   "metadata": {},
   "outputs": [],
   "source": [
    "employees = support_df.loc[:, support_df.columns[1: ]].values"
   ]
  },
  {
   "cell_type": "code",
   "execution_count": 5,
   "metadata": {},
   "outputs": [
    {
     "data": {
      "text/plain": [
       "array([[151.8       ,   3.32356152,   1.        , ...,   0.        ,\n",
       "          2.        ,   1.        ],\n",
       "       [155.2       ,   3.15791497,   1.        , ...,  12.        ,\n",
       "          1.        ,   2.        ],\n",
       "       [164.2       ,   3.99511402,   3.        , ...,  23.        ,\n",
       "          2.        ,   0.        ],\n",
       "       ...,\n",
       "       [155.4       ,   4.28595931,   3.        , ...,  18.        ,\n",
       "          1.        ,   3.        ],\n",
       "       [150.7       ,   3.9860039 ,   1.        , ...,  30.        ,\n",
       "          2.        ,   3.        ],\n",
       "       [160.6       ,   3.87496423,   1.        , ...,  16.        ,\n",
       "          1.        ,   0.        ]])"
      ]
     },
     "execution_count": 5,
     "metadata": {},
     "output_type": "execute_result"
    }
   ],
   "source": [
    "employees"
   ]
  },
  {
   "cell_type": "code",
   "execution_count": 6,
   "metadata": {},
   "outputs": [],
   "source": [
    "# First going to standardize the data\n",
    "from sklearn.preprocessing import StandardScaler\n",
    "scaler = StandardScaler()\n",
    "employees_standardized = scaler.fit_transform(employees)"
   ]
  },
  {
   "cell_type": "markdown",
   "metadata": {},
   "source": [
    "### First, going to use k-distance to see what outliers I get - uses kdistance by default"
   ]
  },
  {
   "cell_type": "code",
   "execution_count": 7,
   "metadata": {},
   "outputs": [],
   "source": [
    "from pyod.models.knn import KNN"
   ]
  },
  {
   "cell_type": "code",
   "execution_count": 8,
   "metadata": {},
   "outputs": [],
   "source": [
    "kNN_model = KNN(n_neighbors=5)\n",
    "kNN_model.fit(employees_standardized)\n",
    "\n",
    "# get outlier scores of the training data\n",
    "kdistance_scores = kNN_model.decision_scores_  # "
   ]
  },
  {
   "cell_type": "code",
   "execution_count": 9,
   "metadata": {},
   "outputs": [
    {
     "data": {
      "text/plain": [
       "array([2.98891865, 1.8007078 , 2.55687172, 2.35736386, 3.10991605,\n",
       "       2.23062177, 2.44747388, 1.73285562, 2.58721665, 2.89512884,\n",
       "       2.03684618, 2.79606543, 2.094383  , 2.50719397, 2.4182019 ,\n",
       "       1.95954878, 2.86216738, 2.12902367, 2.7692428 , 3.42804783,\n",
       "       2.99473546, 2.36098362, 1.96929208, 3.54329015, 2.67310536,\n",
       "       2.5877866 , 1.90251072, 2.77647929, 2.16663424, 1.94594685,\n",
       "       2.41396908, 1.92576048, 2.22485828, 3.03245974, 2.18508345,\n",
       "       3.34009471, 2.47215691, 2.23976422, 2.69467294, 3.11631179,\n",
       "       2.53504765, 2.19786987, 1.97087039, 1.94574832, 1.8286518 ,\n",
       "       2.18997718, 2.84542797, 2.56235941, 2.30962425, 2.36279583,\n",
       "       2.1030892 , 2.38865316, 1.90141609, 2.0206367 , 2.24694639,\n",
       "       2.20796553, 2.17276677, 2.8005614 , 3.2879249 , 1.54303893,\n",
       "       2.42280549, 3.15037314, 2.63960055, 2.53068702, 1.87757321,\n",
       "       2.12956244, 2.18769052, 2.42327513, 2.56914057, 2.01998552,\n",
       "       2.26562535, 2.48508809, 2.27301472, 2.18997718, 2.00294877,\n",
       "       3.13939859, 2.67034307, 1.85472727, 2.71069218, 2.38247858,\n",
       "       2.27620478, 1.72172256, 1.73480088, 2.87003516, 2.69004647,\n",
       "       2.04176526, 1.93792142, 3.10396525, 2.16805237, 1.82782554,\n",
       "       2.7307673 , 2.69712078, 1.89188685, 3.34792736, 3.21870972,\n",
       "       2.38602159, 2.06728813, 3.27152697, 1.66613001, 2.44944078,\n",
       "       1.89132076, 2.92538511, 2.00199279, 2.07085053, 2.04759427,\n",
       "       1.93879138, 1.80667164, 2.14953955, 2.18266306, 2.78430401,\n",
       "       2.34824322, 1.85787375, 2.44002532, 1.88731235, 2.44068515,\n",
       "       2.10648113, 1.98474148, 1.99676696, 2.17101183, 2.25670474,\n",
       "       2.95131865, 2.17670186, 2.22866269, 1.89888854, 2.45071977,\n",
       "       2.3530306 , 2.40567855, 2.22724052, 3.42680299, 2.56928308,\n",
       "       1.61499236, 2.56509499, 2.46927018, 3.06155906, 2.73133037,\n",
       "       2.43474877, 2.45556405, 2.12880468, 2.60057928, 2.97147397,\n",
       "       2.58140263, 2.1441235 , 3.023765  , 2.5090647 , 1.79098716,\n",
       "       3.19345606, 1.84097503, 2.3281431 , 2.93077821, 2.23491889,\n",
       "       1.95954878, 3.13907422, 2.08594516, 3.23812881, 2.62109906,\n",
       "       2.11237049, 2.26416779, 2.61081187, 2.04176526, 2.05948703,\n",
       "       2.97844261, 2.55813857, 1.7577231 , 2.87226368, 3.16621206,\n",
       "       2.63850058, 2.29181591, 2.08414221, 2.13853067, 1.84604914,\n",
       "       2.33330709, 2.39246729, 2.43760791, 2.02152401, 2.68363978,\n",
       "       2.59952252, 2.47497595, 2.40838334, 2.62568011, 2.03788514,\n",
       "       1.97370512, 1.91776809, 2.23826801, 2.80078536, 2.69559285,\n",
       "       2.20102867, 2.23090418, 1.7732253 , 1.91280342, 2.46463757,\n",
       "       2.02357212, 3.03465149, 2.02794622, 2.71233774, 1.85508605,\n",
       "       2.61122378, 2.21242391, 2.50498406, 2.48020178, 3.0243994 ,\n",
       "       2.93942194, 3.33957539, 2.53637501, 2.47791505, 2.47338346,\n",
       "       2.44483855, 3.32372813, 2.53603375, 1.72172256, 2.79844938,\n",
       "       2.2647902 , 1.73951716, 2.44019731, 3.35773215, 2.82770504,\n",
       "       2.02767827, 2.72774875, 2.30912636, 1.95677716, 2.31214756,\n",
       "       2.31368434, 2.53557568, 2.76253352, 3.37540031, 2.57898931,\n",
       "       1.71153765, 2.41862528, 2.03713453, 1.80037543, 1.55225972,\n",
       "       3.17331761, 2.46923482, 3.16132863, 2.04004006, 3.27927174,\n",
       "       2.69392305, 3.07068919, 2.12366748, 3.1794594 , 2.79605096,\n",
       "       2.7399516 , 1.81380152, 2.48534766, 2.67310068, 1.91321723,\n",
       "       1.92110297, 2.17541336, 2.31058839, 2.97159091, 2.38743887,\n",
       "       1.8007078 , 2.38565922, 1.81742354, 2.14892183, 2.70119822,\n",
       "       2.18163822, 2.62241432, 2.11079673, 2.46073897, 2.41487676,\n",
       "       2.5404716 , 2.71687639, 3.155195  , 3.24509771, 2.13104353,\n",
       "       2.63553255, 2.61032002, 1.84076904, 2.36412448, 2.47766798,\n",
       "       2.42854837, 2.3443641 , 2.81346209, 1.95093356, 2.06430222,\n",
       "       2.87531771, 2.25939539, 2.24877552, 2.74708309, 2.82243753,\n",
       "       2.16621728, 2.76400863, 3.36928531, 2.64367055, 2.35773085,\n",
       "       2.78351837, 2.03639927, 2.38552349, 2.17896363, 2.38178234,\n",
       "       2.50207538, 2.55687172, 2.43059765, 2.44229054, 2.63009219,\n",
       "       2.63411367, 2.55115827, 2.46660982, 4.32441788, 2.66285177,\n",
       "       2.43960835, 2.49446558, 2.60365735, 2.30776584, 2.12798621,\n",
       "       2.33220199, 2.85803443, 2.05206398, 1.62737295, 2.8463913 ,\n",
       "       2.72418953, 2.55040519, 2.18175599, 2.26401   , 2.57705372,\n",
       "       2.03256794, 2.04373041, 3.17800198, 2.41783019, 1.99887974,\n",
       "       2.03900161, 2.45879069, 2.63638825, 1.92180824, 2.68772019,\n",
       "       2.23273659, 2.00623845, 2.37873758, 2.4103672 , 2.34069591,\n",
       "       1.80976146, 2.47083267, 2.32994443, 2.21043136, 3.20130514,\n",
       "       2.19665164, 2.44490565, 2.56024129, 2.72638062, 1.83500296,\n",
       "       2.20380481, 3.39524977, 1.95078897, 2.72907232, 2.88655313,\n",
       "       3.09950888, 2.3641235 , 1.95868001, 2.58565656, 2.9332048 ,\n",
       "       1.82179727, 2.5902627 , 1.90730307, 1.62360569, 2.19321756,\n",
       "       2.39694294, 2.53243448, 3.29512406, 2.16217728, 2.23388146,\n",
       "       2.35217932, 2.60331664, 2.55200099, 2.30005059, 2.14691683,\n",
       "       1.75535346, 2.63018777, 2.23437894, 1.98033182, 2.13744466,\n",
       "       2.91239927, 2.49572454, 2.87025119, 4.85142195, 1.89300697,\n",
       "       2.69640878, 2.5462145 , 2.56685636, 2.74689358, 2.93460624,\n",
       "       2.41023936, 1.93843955, 1.74885136, 2.05297373, 2.20247509,\n",
       "       1.85662686, 2.17512362, 2.16674325, 2.07375826, 2.39057324,\n",
       "       2.47994671, 2.68501795, 2.01733846, 2.75534556, 2.15562324,\n",
       "       2.25988274, 1.6286145 , 2.53355726, 2.70502714, 2.18316339])"
      ]
     },
     "execution_count": 9,
     "metadata": {},
     "output_type": "execute_result"
    }
   ],
   "source": [
    "kdistance_scores"
   ]
  },
  {
   "cell_type": "code",
   "execution_count": 10,
   "metadata": {},
   "outputs": [],
   "source": [
    "highest_scores = -np.sort(-kdistance_scores, )"
   ]
  },
  {
   "cell_type": "code",
   "execution_count": 11,
   "metadata": {},
   "outputs": [
    {
     "data": {
      "text/plain": [
       "array([4.85142195, 4.32441788, 3.54329015, 3.42804783, 3.42680299])"
      ]
     },
     "execution_count": 11,
     "metadata": {},
     "output_type": "execute_result"
    }
   ],
   "source": [
    "highest_scores[0:5]"
   ]
  },
  {
   "cell_type": "code",
   "execution_count": 12,
   "metadata": {},
   "outputs": [],
   "source": [
    "# Let's check the ids\n",
    "highest_emp_index = np.argwhere(kdistance_scores == highest_scores[0])[0][0]\n",
    "second_highest_index = np.argwhere(kdistance_scores == highest_scores[1])[0][0]"
   ]
  },
  {
   "cell_type": "code",
   "execution_count": 13,
   "metadata": {},
   "outputs": [
    {
     "data": {
      "text/plain": [
       "Employee ID                    143406.000000\n",
       "Avg Tix / Day                     145.000000\n",
       "Customer rating                     2.325385\n",
       "Tardies                             3.000000\n",
       "Graveyard Shifts Taken              1.000000\n",
       "Weekend Shifts Taken                0.000000\n",
       "Sick Days Taken                     6.000000\n",
       "% Sick Days Taken on Friday         0.833333\n",
       "Employee Dev. Hours                30.000000\n",
       "Shift Swaps Requested               4.000000\n",
       "Shift Swaps Offered                 0.000000\n",
       "Name: 373, dtype: float64"
      ]
     },
     "execution_count": 13,
     "metadata": {},
     "output_type": "execute_result"
    }
   ],
   "source": [
    "support_df.iloc[highest_emp_index, :]"
   ]
  },
  {
   "cell_type": "code",
   "execution_count": 14,
   "metadata": {},
   "outputs": [
    {
     "data": {
      "text/plain": [
       "Employee ID                    137155.000000\n",
       "Avg Tix / Day                     165.300000\n",
       "Customer rating                     4.493826\n",
       "Tardies                             1.000000\n",
       "Graveyard Shifts Taken              3.000000\n",
       "Weekend Shifts Taken                2.000000\n",
       "Sick Days Taken                     1.000000\n",
       "% Sick Days Taken on Friday         0.000000\n",
       "Employee Dev. Hours                30.000000\n",
       "Shift Swaps Requested               1.000000\n",
       "Shift Swaps Offered                 7.000000\n",
       "Name: 298, dtype: float64"
      ]
     },
     "execution_count": 14,
     "metadata": {},
     "output_type": "execute_result"
    }
   ],
   "source": [
    "support_df.iloc[second_highest_index, :]"
   ]
  },
  {
   "cell_type": "markdown",
   "metadata": {},
   "source": [
    "## Yes this checks out that these two have higher distance to kth neighbors than all the rest it was 3  and you can see the first one is highest and seems more like somone who is flying under the radar the second person seems to be an outlier ie a superstar"
   ]
  },
  {
   "cell_type": "markdown",
   "metadata": {},
   "source": [
    "### Implementing Local Outlier Factors"
   ]
  },
  {
   "cell_type": "code",
   "execution_count": 15,
   "metadata": {},
   "outputs": [],
   "source": [
    "from pyod.models.lof import LOF"
   ]
  },
  {
   "cell_type": "code",
   "execution_count": 16,
   "metadata": {},
   "outputs": [],
   "source": [
    "LOF_model = LOF(n_neighbors=5)\n",
    "LOF_model.fit(employees_standardized)\n",
    "\n",
    "# get outlier scores of the training data\n",
    "lof_scores = LOF_model.decision_scores_  # "
   ]
  },
  {
   "cell_type": "markdown",
   "metadata": {},
   "source": [
    "As you can see from the plot, hovers around one, may go a little below for those that really close to others, but will usually be greater, and the greater the worse"
   ]
  },
  {
   "cell_type": "code",
   "execution_count": 17,
   "metadata": {},
   "outputs": [
    {
     "data": {
      "text/plain": [
       "(array([148., 152.,  62.,  25.,   9.,   2.,   0.,   1.,   0.,   1.]),\n",
       " array([0.92538064, 1.03012057, 1.1348605 , 1.23960043, 1.34434036,\n",
       "        1.44908029, 1.55382022, 1.65856015, 1.76330008, 1.86804001,\n",
       "        1.97277994]),\n",
       " <a list of 10 Patch objects>)"
      ]
     },
     "execution_count": 17,
     "metadata": {},
     "output_type": "execute_result"
    },
    {
     "data": {
      "image/png": "[encoded data removed]",
      "text/plain": [
       "<Figure size 432x288 with 1 Axes>"
      ]
     },
     "metadata": {
      "needs_background": "light"
     },
     "output_type": "display_data"
    }
   ],
   "source": [
    "plt.hist(lof_scores)"
   ]
  },
  {
   "cell_type": "code",
   "execution_count": 18,
   "metadata": {},
   "outputs": [],
   "source": [
    "highest_lof_scores = -np.sort(-lof_scores, )"
   ]
  },
  {
   "cell_type": "code",
   "execution_count": 19,
   "metadata": {},
   "outputs": [
    {
     "data": {
      "text/plain": [
       "array([1.97277994, 1.76310701, 1.47281707, 1.44998333, 1.44343772])"
      ]
     },
     "execution_count": 19,
     "metadata": {},
     "output_type": "execute_result"
    }
   ],
   "source": [
    "highest_lof_scores[0:5]"
   ]
  },
  {
   "cell_type": "markdown",
   "metadata": {},
   "source": [
    "## Let's see the worst guy here"
   ]
  },
  {
   "cell_type": "code",
   "execution_count": 20,
   "metadata": {},
   "outputs": [
    {
     "data": {
      "text/plain": [
       "Employee ID                    143406.000000\n",
       "Avg Tix / Day                     145.000000\n",
       "Customer rating                     2.325385\n",
       "Tardies                             3.000000\n",
       "Graveyard Shifts Taken              1.000000\n",
       "Weekend Shifts Taken                0.000000\n",
       "Sick Days Taken                     6.000000\n",
       "% Sick Days Taken on Friday         0.833333\n",
       "Employee Dev. Hours                30.000000\n",
       "Shift Swaps Requested               4.000000\n",
       "Shift Swaps Offered                 0.000000\n",
       "Name: 373, dtype: float64"
      ]
     },
     "execution_count": 20,
     "metadata": {},
     "output_type": "execute_result"
    }
   ],
   "source": [
    "highest_lof_index = np.argwhere(lof_scores == highest_lof_scores[0])[0][0]\n",
    "support_df.iloc[highest_emp_index, :]"
   ]
  },
  {
   "cell_type": "markdown",
   "metadata": {},
   "source": [
    "This tells you that this guy with a score of almost 2, neighbors view him as twice as far as others in the community."
   ]
  }
 ],
 "metadata": {
  "kernelspec": {
   "display_name": "Python 3",
   "language": "python",
   "name": "python3"
  },
  "language_info": {
   "codemirror_mode": {
    "name": "ipython",
    "version": 3
   },
   "file_extension": ".py",
   "mimetype": "text/x-python",
   "name": "python",
   "nbconvert_exporter": "python",
   "pygments_lexer": "ipython3",
   "version": "3.6.9"
  }
 },
 "nbformat": 4,
 "nbformat_minor": 4
}
