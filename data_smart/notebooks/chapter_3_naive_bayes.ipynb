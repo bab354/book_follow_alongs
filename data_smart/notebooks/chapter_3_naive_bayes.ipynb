{
 "cells": [
  {
   "cell_type": "markdown",
   "metadata": {},
   "source": [
    "## CHAPTER 3: Naive Bayes\n",
    "\n",
    "Used for Supervised Learning (when you do know the labels unlike k-means) and it's typically used for document classification.\n",
    "\n",
    "The core premise uses Bayes Theorem.  See a better refresher on probability theory\n",
    "\n",
    "but basic Premise\n",
    "\n",
    "P (A N B) = P (A N B)\n",
    "\n",
    "P (A|B) * P (B) = P (B | A) * P(A)\n",
    "\n",
    "P (A | B) = P(B|A) * P(A) / P(B)\n",
    "\n",
    "In the book DataSmart, Mailchimp lauches a new product called Mandrill that is a real animal, so our goal is to try to classify tweets as either applying to MailChimp product or something else (band, video game etc)\n",
    "\n",
    "So in Naive Bayes, we basically will take the document (in this case tweet) and create a vector of words.\n",
    "\n",
    "The we want to calculate\n",
    "\n",
    "p(app | word 1 , word 2, word 3, etc) = p(word 1, word 2, word 3 | app) * p(app) / p(word 1 , word 2...)\n",
    "and \n",
    "P(not app | word 1, word 2, word 3 etc) = p(word 1 word 2, etc | other) * p(other) / p(word 1, word 2)\n",
    "\n",
    "Usually if p(app | word1) > p(not app | word 1) then we say it's an app. Notice with both of these probabilities\n",
    "that the denominator is the same, so we can actually drop it since it's more about which value is higher\n",
    "than the actual value\n",
    "\n",
    "So becomes \n",
    "\n",
    "P(app | word 1, word 2) = p (word 1, word 2, word 3 | app)\n",
    "\n",
    "P (other | word 1, word 2) = p(word 1, word 2, word 3 | other)\n",
    "\n",
    "But these joint conditional prbability distributions are not easy to calculate.\n",
    "\n",
    "So what you assume is (it's a Naive assumption, hence Naive Bayes) that all the words are independent. Even though this isn't true in practice, it still works because you are applying this simplification to both probability calculations, so even though it will prevent you from calculating accurate probabilities all you care about is the relative direction (which one is higher) and this assumption shouldn't affect the relative difference between the two as it introduces bias into both calculations by taking the indepdendence assumption\n",
    "\n",
    "So now you have\n",
    "\n",
    "P (app | word 1, word 2) = p(word 1, word 2 | app) * p(app) = p(word 1 | app) * p(word 2 | app) * p(app)\n",
    "\n",
    "P(other | word 1, word 2) = p(word 1, word 2 | other) * p(other) = p(word 1 | other) * p(word 2 | other) * p(other)\n",
    "\n",
    "\n",
    "so where do you get the prior probabilities, you can try to estimate them\n",
    "from data.\n",
    "\n",
    "If you can't and just assume it's 50/ 50 notice they drop out too since it would be the same in both\n",
    "\n",
    "so really comes down to compariong\n",
    "\n",
    "p(word 1 | app) * p(word2 | app) \n",
    "\n",
    "vs\n",
    "\n",
    "p(word 1 | other) * p(word 2 | other)\n",
    "\n",
    "\n",
    "So ultimately coms down to how do you calculate p(word 1 | app)\n",
    "\n",
    "You have the labels, so you can get the number of words from app tweets and calculate what % of them are word 1\n",
    "and this will be your probability"
   ]
  },
  {
   "cell_type": "markdown",
   "metadata": {},
   "source": [
    "## Couple of tricky points\n",
    "\n",
    "1. Dealing with rare words.  After you have train the model, what if you see a rare word that is not in either class, then you would get p(rare word | app) = 0 so then when you multiply everything together you get 0. so you add 1, and assume you have seen it once, but that's unfair to words seen once , so add 1 to those, unfair to words seen twice, so you basically increment every count by 1 for every word so that the relative probabilities stay constant and you don't run into these 0 cases - additive smoothing\n",
    "\n",
    "\n",
    "2. Dealign with floating point underflow - a lot of words will be really small probabilities, and so when you multiply all of these together you could overwhelm the computer. Instead what you should do is take the natural log and then multiply"
   ]
  },
  {
   "cell_type": "code",
   "execution_count": 1,
   "metadata": {},
   "outputs": [],
   "source": [
    "# Bring in the data\n",
    "import pandas as pd\n",
    "import numpy as np\n",
    "import matplotlib.pyplot as plt"
   ]
  },
  {
   "cell_type": "code",
   "execution_count": 2,
   "metadata": {},
   "outputs": [],
   "source": [
    "excel_file_obj = pd.ExcelFile(\"../raw_data/Mandrill.xlsx\")\n",
    "# Tweets about the app\n",
    "app_tweets_df = pd.read_excel(excel_file_obj, \"AboutMandrillApp\")\n",
    "# All Other tweets\n",
    "other_tweets_df = pd.read_excel(excel_file_obj, \"AboutOther\")"
   ]
  },
  {
   "cell_type": "code",
   "execution_count": 3,
   "metadata": {},
   "outputs": [
    {
     "data": {
      "text/html": [
       "<div>\n",
       "<style scoped>\n",
       "    .dataframe tbody tr th:only-of-type {\n",
       "        vertical-align: middle;\n",
       "    }\n",
       "\n",
       "    .dataframe tbody tr th {\n",
       "        vertical-align: top;\n",
       "    }\n",
       "\n",
       "    .dataframe thead th {\n",
       "        text-align: right;\n",
       "    }\n",
       "</style>\n",
       "<table border=\"1\" class=\"dataframe\">\n",
       "  <thead>\n",
       "    <tr style=\"text-align: right;\">\n",
       "      <th></th>\n",
       "      <th>Tweet</th>\n",
       "      <th>Lower</th>\n",
       "      <th>Unnamed: 2</th>\n",
       "      <th>Unnamed: 3</th>\n",
       "      <th>Unnamed: 4</th>\n",
       "      <th>Unnamed: 5</th>\n",
       "      <th>Unnamed: 6</th>\n",
       "      <th>Unnamed: 7</th>\n",
       "    </tr>\n",
       "  </thead>\n",
       "  <tbody>\n",
       "    <tr>\n",
       "      <th>0</th>\n",
       "      <td>[blog] Using Nullmailer and Mandrill for your ...</td>\n",
       "      <td>[blog] using nullmailer and mandrill for your ...</td>\n",
       "      <td>[blog] using nullmailer and mandrill for your ...</td>\n",
       "      <td>[blog] using nullmailer and mandrill for your ...</td>\n",
       "      <td>[blog] using nullmailer and mandrill for your ...</td>\n",
       "      <td>[blog] using nullmailer and mandrill for your ...</td>\n",
       "      <td>[blog] using nullmailer and mandrill for your ...</td>\n",
       "      <td>[blog] using nullmailer and mandrill for your ...</td>\n",
       "    </tr>\n",
       "    <tr>\n",
       "      <th>1</th>\n",
       "      <td>[blog] Using Postfix and free Mandrill email s...</td>\n",
       "      <td>[blog] using postfix and free mandrill email s...</td>\n",
       "      <td>[blog] using postfix and free mandrill email s...</td>\n",
       "      <td>[blog] using postfix and free mandrill email s...</td>\n",
       "      <td>[blog] using postfix and free mandrill email s...</td>\n",
       "      <td>[blog] using postfix and free mandrill email s...</td>\n",
       "      <td>[blog] using postfix and free mandrill email s...</td>\n",
       "      <td>[blog] using postfix and free mandrill email s...</td>\n",
       "    </tr>\n",
       "    <tr>\n",
       "      <th>2</th>\n",
       "      <td>@aalbertson There are several reasons emails g...</td>\n",
       "      <td>@aalbertson there are several reasons emails g...</td>\n",
       "      <td>@aalbertson there are several reasons emails g...</td>\n",
       "      <td>@aalbertson there are several reasons emails g...</td>\n",
       "      <td>@aalbertson there are several reasons emails g...</td>\n",
       "      <td>@aalbertson there are several reasons emails g...</td>\n",
       "      <td>@aalbertson there are several reasons emails g...</td>\n",
       "      <td>@aalbertson there are several reasons emails g...</td>\n",
       "    </tr>\n",
       "    <tr>\n",
       "      <th>3</th>\n",
       "      <td>@adrienneleigh I just switched it over to Mand...</td>\n",
       "      <td>@adrienneleigh i just switched it over to mand...</td>\n",
       "      <td>@adrienneleigh i just switched it over to mand...</td>\n",
       "      <td>@adrienneleigh i just switched it over to mand...</td>\n",
       "      <td>@adrienneleigh i just switched it over to mand...</td>\n",
       "      <td>@adrienneleigh i just switched it over to mand...</td>\n",
       "      <td>@adrienneleigh i just switched it over to mand...</td>\n",
       "      <td>@adrienneleigh i just switched it over to mand...</td>\n",
       "    </tr>\n",
       "    <tr>\n",
       "      <th>4</th>\n",
       "      <td>@ankeshk +1 to @mailchimp We use MailChimp for...</td>\n",
       "      <td>@ankeshk +1 to @mailchimp we use mailchimp for...</td>\n",
       "      <td>@ankeshk +1 to @mailchimp we use mailchimp for...</td>\n",
       "      <td>@ankeshk +1 to @mailchimp we use mailchimp for...</td>\n",
       "      <td>@ankeshk +1 to @mailchimp we use mailchimp for...</td>\n",
       "      <td>@ankeshk +1 to @mailchimp we use mailchimp for...</td>\n",
       "      <td>@ankeshk +1 to @mailchimp we use mailchimp for...</td>\n",
       "      <td>@ankeshk +1 to @mailchimp we use mailchimp for...</td>\n",
       "    </tr>\n",
       "  </tbody>\n",
       "</table>\n",
       "</div>"
      ],
      "text/plain": [
       "                                               Tweet  \\\n",
       "0  [blog] Using Nullmailer and Mandrill for your ...   \n",
       "1  [blog] Using Postfix and free Mandrill email s...   \n",
       "2  @aalbertson There are several reasons emails g...   \n",
       "3  @adrienneleigh I just switched it over to Mand...   \n",
       "4  @ankeshk +1 to @mailchimp We use MailChimp for...   \n",
       "\n",
       "                                               Lower  \\\n",
       "0  [blog] using nullmailer and mandrill for your ...   \n",
       "1  [blog] using postfix and free mandrill email s...   \n",
       "2  @aalbertson there are several reasons emails g...   \n",
       "3  @adrienneleigh i just switched it over to mand...   \n",
       "4  @ankeshk +1 to @mailchimp we use mailchimp for...   \n",
       "\n",
       "                                          Unnamed: 2  \\\n",
       "0  [blog] using nullmailer and mandrill for your ...   \n",
       "1  [blog] using postfix and free mandrill email s...   \n",
       "2  @aalbertson there are several reasons emails g...   \n",
       "3  @adrienneleigh i just switched it over to mand...   \n",
       "4  @ankeshk +1 to @mailchimp we use mailchimp for...   \n",
       "\n",
       "                                          Unnamed: 3  \\\n",
       "0  [blog] using nullmailer and mandrill for your ...   \n",
       "1  [blog] using postfix and free mandrill email s...   \n",
       "2  @aalbertson there are several reasons emails g...   \n",
       "3  @adrienneleigh i just switched it over to mand...   \n",
       "4  @ankeshk +1 to @mailchimp we use mailchimp for...   \n",
       "\n",
       "                                          Unnamed: 4  \\\n",
       "0  [blog] using nullmailer and mandrill for your ...   \n",
       "1  [blog] using postfix and free mandrill email s...   \n",
       "2  @aalbertson there are several reasons emails g...   \n",
       "3  @adrienneleigh i just switched it over to mand...   \n",
       "4  @ankeshk +1 to @mailchimp we use mailchimp for...   \n",
       "\n",
       "                                          Unnamed: 5  \\\n",
       "0  [blog] using nullmailer and mandrill for your ...   \n",
       "1  [blog] using postfix and free mandrill email s...   \n",
       "2  @aalbertson there are several reasons emails g...   \n",
       "3  @adrienneleigh i just switched it over to mand...   \n",
       "4  @ankeshk +1 to @mailchimp we use mailchimp for...   \n",
       "\n",
       "                                          Unnamed: 6  \\\n",
       "0  [blog] using nullmailer and mandrill for your ...   \n",
       "1  [blog] using postfix and free mandrill email s...   \n",
       "2  @aalbertson there are several reasons emails g...   \n",
       "3  @adrienneleigh i just switched it over to mand...   \n",
       "4  @ankeshk +1 to @mailchimp we use mailchimp for...   \n",
       "\n",
       "                                          Unnamed: 7  \n",
       "0  [blog] using nullmailer and mandrill for your ...  \n",
       "1  [blog] using postfix and free mandrill email s...  \n",
       "2  @aalbertson there are several reasons emails g...  \n",
       "3  @adrienneleigh i just switched it over to mand...  \n",
       "4  @ankeshk +1 to @mailchimp we use mailchimp for...  "
      ]
     },
     "execution_count": 3,
     "metadata": {},
     "output_type": "execute_result"
    }
   ],
   "source": [
    "app_tweets_df.head()"
   ]
  },
  {
   "cell_type": "code",
   "execution_count": 4,
   "metadata": {},
   "outputs": [
    {
     "data": {
      "text/html": [
       "<div>\n",
       "<style scoped>\n",
       "    .dataframe tbody tr th:only-of-type {\n",
       "        vertical-align: middle;\n",
       "    }\n",
       "\n",
       "    .dataframe tbody tr th {\n",
       "        vertical-align: top;\n",
       "    }\n",
       "\n",
       "    .dataframe thead th {\n",
       "        text-align: right;\n",
       "    }\n",
       "</style>\n",
       "<table border=\"1\" class=\"dataframe\">\n",
       "  <thead>\n",
       "    <tr style=\"text-align: right;\">\n",
       "      <th></th>\n",
       "      <th>Tweet</th>\n",
       "      <th>Lower</th>\n",
       "      <th>Unnamed: 2</th>\n",
       "      <th>Unnamed: 3</th>\n",
       "      <th>Unnamed: 4</th>\n",
       "      <th>Unnamed: 5</th>\n",
       "      <th>Unnamed: 6</th>\n",
       "      <th>Unnamed: 7</th>\n",
       "    </tr>\n",
       "  </thead>\n",
       "  <tbody>\n",
       "    <tr>\n",
       "      <th>0</th>\n",
       "      <td>¿En donde esta su remontada Mandrill?</td>\n",
       "      <td>¿en donde esta su remontada mandrill?</td>\n",
       "      <td>¿en donde esta su remontada mandrill?</td>\n",
       "      <td>¿en donde esta su remontada mandrill?</td>\n",
       "      <td>¿en donde esta su remontada mandrill</td>\n",
       "      <td>¿en donde esta su remontada mandrill</td>\n",
       "      <td>¿en donde esta su remontada mandrill</td>\n",
       "      <td>¿en donde esta su remontada mandrill</td>\n",
       "    </tr>\n",
       "    <tr>\n",
       "      <th>1</th>\n",
       "      <td>.@Katie_PhD Alternate, 'reproachful mandrill' ...</td>\n",
       "      <td>.@katie_phd alternate, 'reproachful mandrill' ...</td>\n",
       "      <td>.@katie_phd alternate, 'reproachful mandrill' ...</td>\n",
       "      <td>.@katie_phd alternate, 'reproachful mandrill' ...</td>\n",
       "      <td>.@katie_phd alternate, 'reproachful mandrill' ...</td>\n",
       "      <td>.@katie_phd alternate, 'reproachful mandrill' ...</td>\n",
       "      <td>.@katie_phd alternate, 'reproachful mandrill' ...</td>\n",
       "      <td>.@katie_phd alternate  'reproachful mandrill' ...</td>\n",
       "    </tr>\n",
       "    <tr>\n",
       "      <th>2</th>\n",
       "      <td>.@theophani can i get \"drill\" in there? it wou...</td>\n",
       "      <td>.@theophani can i get \"drill\" in there? it wou...</td>\n",
       "      <td>.@theophani can i get \"drill\" in there? it wou...</td>\n",
       "      <td>.@theophani can i get \"drill\" in there? it wou...</td>\n",
       "      <td>.@theophani can i get \"drill\" in there  it wou...</td>\n",
       "      <td>.@theophani can i get \"drill\" in there  it wou...</td>\n",
       "      <td>.@theophani can i get \"drill\" in there  it wou...</td>\n",
       "      <td>.@theophani can i get \"drill\" in there  it wou...</td>\n",
       "    </tr>\n",
       "    <tr>\n",
       "      <th>3</th>\n",
       "      <td>“@ChrisJBoyland: Baby Mandrill Paignton Zoo 29...</td>\n",
       "      <td>“@chrisjboyland: baby mandrill paignton zoo 29...</td>\n",
       "      <td>“@chrisjboyland: baby mandrill paignton zoo 29...</td>\n",
       "      <td>“@chrisjboyland baby mandrill paignton zoo 29t...</td>\n",
       "      <td>“@chrisjboyland baby mandrill paignton zoo 29t...</td>\n",
       "      <td>“@chrisjboyland baby mandrill paignton zoo 29t...</td>\n",
       "      <td>“@chrisjboyland baby mandrill paignton zoo 29t...</td>\n",
       "      <td>“@chrisjboyland baby mandrill paignton zoo 29t...</td>\n",
       "    </tr>\n",
       "    <tr>\n",
       "      <th>4</th>\n",
       "      <td>“@MISSMYA #NameAnAmazingBand MANDRILL!” Mint C...</td>\n",
       "      <td>“@missmya #nameanamazingband mandrill!” mint c...</td>\n",
       "      <td>“@missmya #nameanamazingband mandrill!” mint c...</td>\n",
       "      <td>“@missmya #nameanamazingband mandrill!” mint c...</td>\n",
       "      <td>“@missmya #nameanamazingband mandrill!” mint c...</td>\n",
       "      <td>“@missmya #nameanamazingband mandrill ” mint c...</td>\n",
       "      <td>“@missmya #nameanamazingband mandrill ” mint c...</td>\n",
       "      <td>“@missmya #nameanamazingband mandrill ” mint c...</td>\n",
       "    </tr>\n",
       "  </tbody>\n",
       "</table>\n",
       "</div>"
      ],
      "text/plain": [
       "                                               Tweet  \\\n",
       "0              ¿En donde esta su remontada Mandrill?   \n",
       "1  .@Katie_PhD Alternate, 'reproachful mandrill' ...   \n",
       "2  .@theophani can i get \"drill\" in there? it wou...   \n",
       "3  “@ChrisJBoyland: Baby Mandrill Paignton Zoo 29...   \n",
       "4  “@MISSMYA #NameAnAmazingBand MANDRILL!” Mint C...   \n",
       "\n",
       "                                               Lower  \\\n",
       "0              ¿en donde esta su remontada mandrill?   \n",
       "1  .@katie_phd alternate, 'reproachful mandrill' ...   \n",
       "2  .@theophani can i get \"drill\" in there? it wou...   \n",
       "3  “@chrisjboyland: baby mandrill paignton zoo 29...   \n",
       "4  “@missmya #nameanamazingband mandrill!” mint c...   \n",
       "\n",
       "                                          Unnamed: 2  \\\n",
       "0              ¿en donde esta su remontada mandrill?   \n",
       "1  .@katie_phd alternate, 'reproachful mandrill' ...   \n",
       "2  .@theophani can i get \"drill\" in there? it wou...   \n",
       "3  “@chrisjboyland: baby mandrill paignton zoo 29...   \n",
       "4  “@missmya #nameanamazingband mandrill!” mint c...   \n",
       "\n",
       "                                          Unnamed: 3  \\\n",
       "0              ¿en donde esta su remontada mandrill?   \n",
       "1  .@katie_phd alternate, 'reproachful mandrill' ...   \n",
       "2  .@theophani can i get \"drill\" in there? it wou...   \n",
       "3  “@chrisjboyland baby mandrill paignton zoo 29t...   \n",
       "4  “@missmya #nameanamazingband mandrill!” mint c...   \n",
       "\n",
       "                                          Unnamed: 4  \\\n",
       "0              ¿en donde esta su remontada mandrill    \n",
       "1  .@katie_phd alternate, 'reproachful mandrill' ...   \n",
       "2  .@theophani can i get \"drill\" in there  it wou...   \n",
       "3  “@chrisjboyland baby mandrill paignton zoo 29t...   \n",
       "4  “@missmya #nameanamazingband mandrill!” mint c...   \n",
       "\n",
       "                                          Unnamed: 5  \\\n",
       "0              ¿en donde esta su remontada mandrill    \n",
       "1  .@katie_phd alternate, 'reproachful mandrill' ...   \n",
       "2  .@theophani can i get \"drill\" in there  it wou...   \n",
       "3  “@chrisjboyland baby mandrill paignton zoo 29t...   \n",
       "4  “@missmya #nameanamazingband mandrill ” mint c...   \n",
       "\n",
       "                                          Unnamed: 6  \\\n",
       "0              ¿en donde esta su remontada mandrill    \n",
       "1  .@katie_phd alternate, 'reproachful mandrill' ...   \n",
       "2  .@theophani can i get \"drill\" in there  it wou...   \n",
       "3  “@chrisjboyland baby mandrill paignton zoo 29t...   \n",
       "4  “@missmya #nameanamazingband mandrill ” mint c...   \n",
       "\n",
       "                                          Unnamed: 7  \n",
       "0              ¿en donde esta su remontada mandrill   \n",
       "1  .@katie_phd alternate  'reproachful mandrill' ...  \n",
       "2  .@theophani can i get \"drill\" in there  it wou...  \n",
       "3  “@chrisjboyland baby mandrill paignton zoo 29t...  \n",
       "4  “@missmya #nameanamazingband mandrill ” mint c...  "
      ]
     },
     "execution_count": 4,
     "metadata": {},
     "output_type": "execute_result"
    }
   ],
   "source": [
    "other_tweets_df.head()"
   ]
  },
  {
   "cell_type": "code",
   "execution_count": 5,
   "metadata": {},
   "outputs": [],
   "source": [
    "# Going to do the text cleaning myself\n",
    "app_tweets = app_tweets_df.loc[:, \"Tweet\"].tolist()\n",
    "other_tweets = other_tweets_df.loc[:, \"Tweet\"].tolist()"
   ]
  },
  {
   "cell_type": "code",
   "execution_count": 6,
   "metadata": {},
   "outputs": [],
   "source": [
    "def process_tweets(list_of_tweets):\n",
    "    \"\"\"Follow same pre-processing as book\n",
    "       1. lowercase\n",
    "       2. Remove a period followed by space\n",
    "       3. Remove colon followed by space\n",
    "       4. remove ?, !, ;, ,\n",
    "       \"\"\"\n",
    "    final_tweets = [w.lower() for w in list_of_tweets]\n",
    "    symbols = [\". \", \": \", \"?\", \"!\", \";\", \",\"]\n",
    "    new_words = []\n",
    "    for symbol in symbols:\n",
    "        final_tweets = [tweet.replace(symbol, \" \") for tweet in final_tweets]\n",
    "    return final_tweets"
   ]
  },
  {
   "cell_type": "code",
   "execution_count": 7,
   "metadata": {},
   "outputs": [],
   "source": [
    "cleaned_app_tweets = process_tweets(app_tweets)\n",
    "cleaned_other_tweets = process_tweets(other_tweets)"
   ]
  },
  {
   "cell_type": "code",
   "execution_count": 8,
   "metadata": {},
   "outputs": [],
   "source": [
    "def split_list_of_tweets_into_list_of_words(list_of_tweets):\n",
    "    return [word for tweet in list_of_tweets for word in tweet.split(\" \")]"
   ]
  },
  {
   "cell_type": "code",
   "execution_count": 9,
   "metadata": {},
   "outputs": [],
   "source": [
    "cleaned_app_words = split_list_of_tweets_into_list_of_words(cleaned_app_tweets)\n",
    "cleaned_other_words = split_list_of_tweets_into_list_of_words(cleaned_other_tweets)"
   ]
  },
  {
   "cell_type": "code",
   "execution_count": 10,
   "metadata": {},
   "outputs": [
    {
     "data": {
      "text/plain": [
       "['[blog]', 'using', 'nullmailer', 'and', 'mandrill']"
      ]
     },
     "execution_count": 10,
     "metadata": {},
     "output_type": "execute_result"
    }
   ],
   "source": [
    "cleaned_app_words[0:5]"
   ]
  },
  {
   "cell_type": "code",
   "execution_count": 11,
   "metadata": {},
   "outputs": [
    {
     "data": {
      "text/plain": [
       "['¿en', 'donde', 'esta', 'su', 'remontada']"
      ]
     },
     "execution_count": 11,
     "metadata": {},
     "output_type": "execute_result"
    }
   ],
   "source": [
    "cleaned_other_words[0:5]"
   ]
  },
  {
   "cell_type": "markdown",
   "metadata": {},
   "source": [
    "Going to use counter from collections which will take a list of words and return a dictionary that gives me the counts"
   ]
  },
  {
   "cell_type": "markdown",
   "metadata": {},
   "source": [
    "Going to create class that will keep track of my words and total words"
   ]
  },
  {
   "cell_type": "code",
   "execution_count": 12,
   "metadata": {},
   "outputs": [],
   "source": [
    "from collections import Counter\n",
    "class WordProbabilityCounter:\n",
    "    \n",
    "    def __init__(self, list_of_words):\n",
    "        self.word_counter = Counter(list_of_words)\n",
    "        self.num_words = self.get_total_words()\n",
    "    \n",
    "    def get_total_words(self):\n",
    "        return sum(self.word_counter.values())\n",
    "    \n",
    "    def filter_out_tokens_less_than_3(self):\n",
    "        \"\"\"In book, he gets rid of tokens (words) that are 3 or less characters\"\"\"\n",
    "        self.word_counter = {k:v for k, v in self.word_counter.items() if len(k) > 3}\n",
    "        self.num_words = self.get_total_words()\n",
    "    \n",
    "    def additive_smoothing(self):\n",
    "        \"\"\"Adjust everything so if you have to add 1 for rare words everything is relatively\n",
    "           the same\n",
    "        \"\"\"\n",
    "        self.word_counter = {k: v + 1 for k, v in self.word_counter.items()}\n",
    "        self.num_words = self.get_total_words()\n",
    "    \n",
    "    def fit_model(self):\n",
    "        self.filter_out_tokens_less_than_3()\n",
    "        self.additive_smoothing()\n",
    "    \n",
    "    def get_probability_for_word(self, word):\n",
    "        \"\"\"Given a word returns the natural log of the probability in order\n",
    "           to prevent int underflow\n",
    "        \"\"\"\n",
    "        word_count = self.word_counter.get(word, 1)\n",
    "        return np.log(word_count / self.num_words)\n",
    "    \n",
    "    def get_probability_for_tweet(self, tweet):\n",
    "        return sum(self.get_probability_for_word(word) for word in tweet.split(\" \"))"
   ]
  },
  {
   "cell_type": "code",
   "execution_count": 13,
   "metadata": {},
   "outputs": [],
   "source": [
    "cleaned_words_model = WordProbabilityCounter(cleaned_app_words)\n",
    "cleaned_words_model.fit_model()"
   ]
  },
  {
   "cell_type": "code",
   "execution_count": 14,
   "metadata": {},
   "outputs": [],
   "source": [
    "other_words_model = WordProbabilityCounter(cleaned_other_words)\n",
    "other_words_model.fit_model()"
   ]
  },
  {
   "cell_type": "markdown",
   "metadata": {},
   "source": [
    "### Now it's time to test the model"
   ]
  },
  {
   "cell_type": "code",
   "execution_count": 15,
   "metadata": {},
   "outputs": [],
   "source": [
    "test_tweets = pd.read_excel(excel_file_obj, \"TestTweets\")\n",
    "test_tweets = test_tweets.loc[:, [\"Number\", \"Class\", \"Tweet\"]]"
   ]
  },
  {
   "cell_type": "code",
   "execution_count": 16,
   "metadata": {},
   "outputs": [
    {
     "data": {
      "text/html": [
       "<div>\n",
       "<style scoped>\n",
       "    .dataframe tbody tr th:only-of-type {\n",
       "        vertical-align: middle;\n",
       "    }\n",
       "\n",
       "    .dataframe tbody tr th {\n",
       "        vertical-align: top;\n",
       "    }\n",
       "\n",
       "    .dataframe thead th {\n",
       "        text-align: right;\n",
       "    }\n",
       "</style>\n",
       "<table border=\"1\" class=\"dataframe\">\n",
       "  <thead>\n",
       "    <tr style=\"text-align: right;\">\n",
       "      <th></th>\n",
       "      <th>Number</th>\n",
       "      <th>Class</th>\n",
       "      <th>Tweet</th>\n",
       "    </tr>\n",
       "  </thead>\n",
       "  <tbody>\n",
       "    <tr>\n",
       "      <th>0</th>\n",
       "      <td>1</td>\n",
       "      <td>APP</td>\n",
       "      <td>Just love @mandrillapp transactional email ser...</td>\n",
       "    </tr>\n",
       "    <tr>\n",
       "      <th>1</th>\n",
       "      <td>2</td>\n",
       "      <td>APP</td>\n",
       "      <td>@rossdeane Mind submitting a request at http:/...</td>\n",
       "    </tr>\n",
       "    <tr>\n",
       "      <th>2</th>\n",
       "      <td>3</td>\n",
       "      <td>APP</td>\n",
       "      <td>@veroapp Any chance you'll be adding Mandrill ...</td>\n",
       "    </tr>\n",
       "    <tr>\n",
       "      <th>3</th>\n",
       "      <td>4</td>\n",
       "      <td>APP</td>\n",
       "      <td>@Elie__ @camj59 jparle de relai SMTP!1 million...</td>\n",
       "    </tr>\n",
       "    <tr>\n",
       "      <th>4</th>\n",
       "      <td>5</td>\n",
       "      <td>APP</td>\n",
       "      <td>would like to send emails for welcome, passwor...</td>\n",
       "    </tr>\n",
       "    <tr>\n",
       "      <th>5</th>\n",
       "      <td>6</td>\n",
       "      <td>APP</td>\n",
       "      <td>From Coworker about using Mandrill:  \"I would ...</td>\n",
       "    </tr>\n",
       "    <tr>\n",
       "      <th>6</th>\n",
       "      <td>7</td>\n",
       "      <td>APP</td>\n",
       "      <td>@mandrill Realised I did that about 5 seconds ...</td>\n",
       "    </tr>\n",
       "    <tr>\n",
       "      <th>7</th>\n",
       "      <td>8</td>\n",
       "      <td>APP</td>\n",
       "      <td>Holy shit. It’s here. http://www.mandrill.com/</td>\n",
       "    </tr>\n",
       "    <tr>\n",
       "      <th>8</th>\n",
       "      <td>9</td>\n",
       "      <td>APP</td>\n",
       "      <td>Our new subscriber profile page: activity time...</td>\n",
       "    </tr>\n",
       "    <tr>\n",
       "      <th>9</th>\n",
       "      <td>10</td>\n",
       "      <td>APP</td>\n",
       "      <td>@mandrillapp increases scalability ( http://bi...</td>\n",
       "    </tr>\n",
       "    <tr>\n",
       "      <th>10</th>\n",
       "      <td>11</td>\n",
       "      <td>OTHER</td>\n",
       "      <td>The Beets! RT @MISSMYA: #NameAnAmazingBand MAN...</td>\n",
       "    </tr>\n",
       "    <tr>\n",
       "      <th>11</th>\n",
       "      <td>12</td>\n",
       "      <td>OTHER</td>\n",
       "      <td>RT @LuisSand0val: Fernando Vargas MANDRILL MEX...</td>\n",
       "    </tr>\n",
       "    <tr>\n",
       "      <th>12</th>\n",
       "      <td>13</td>\n",
       "      <td>OTHER</td>\n",
       "      <td>Photo: oculi-ds: Mandrill by Natalie Manuel ht...</td>\n",
       "    </tr>\n",
       "    <tr>\n",
       "      <th>13</th>\n",
       "      <td>14</td>\n",
       "      <td>OTHER</td>\n",
       "      <td>@mandrill ME NEITHER!!! we can be :sadpanda: t...</td>\n",
       "    </tr>\n",
       "    <tr>\n",
       "      <th>14</th>\n",
       "      <td>15</td>\n",
       "      <td>OTHER</td>\n",
       "      <td>@mandrill n! / ( k! * ( n! - k! ) ) where n = ...</td>\n",
       "    </tr>\n",
       "    <tr>\n",
       "      <th>15</th>\n",
       "      <td>16</td>\n",
       "      <td>OTHER</td>\n",
       "      <td>Megaman X - Spark Mandrill Acapella: http://yo...</td>\n",
       "    </tr>\n",
       "    <tr>\n",
       "      <th>16</th>\n",
       "      <td>17</td>\n",
       "      <td>OTHER</td>\n",
       "      <td>@AngelusErrare1 Storm Eagle FTW!!!, nomás no d...</td>\n",
       "    </tr>\n",
       "    <tr>\n",
       "      <th>17</th>\n",
       "      <td>18</td>\n",
       "      <td>OTHER</td>\n",
       "      <td>Gostei de um vídeo @YouTube http://youtu.be/Xz...</td>\n",
       "    </tr>\n",
       "    <tr>\n",
       "      <th>18</th>\n",
       "      <td>19</td>\n",
       "      <td>OTHER</td>\n",
       "      <td>What is 2-year-old mandrill, JJ, thinking in t...</td>\n",
       "    </tr>\n",
       "    <tr>\n",
       "      <th>19</th>\n",
       "      <td>20</td>\n",
       "      <td>OTHER</td>\n",
       "      <td>120 years of Moscow Zoo - Mandrill - Поста ССС...</td>\n",
       "    </tr>\n",
       "  </tbody>\n",
       "</table>\n",
       "</div>"
      ],
      "text/plain": [
       "    Number  Class                                              Tweet\n",
       "0        1    APP  Just love @mandrillapp transactional email ser...\n",
       "1        2    APP  @rossdeane Mind submitting a request at http:/...\n",
       "2        3    APP  @veroapp Any chance you'll be adding Mandrill ...\n",
       "3        4    APP  @Elie__ @camj59 jparle de relai SMTP!1 million...\n",
       "4        5    APP  would like to send emails for welcome, passwor...\n",
       "5        6    APP  From Coworker about using Mandrill:  \"I would ...\n",
       "6        7    APP  @mandrill Realised I did that about 5 seconds ...\n",
       "7        8    APP    Holy shit. It’s here. http://www.mandrill.com/ \n",
       "8        9    APP  Our new subscriber profile page: activity time...\n",
       "9       10    APP  @mandrillapp increases scalability ( http://bi...\n",
       "10      11  OTHER  The Beets! RT @MISSMYA: #NameAnAmazingBand MAN...\n",
       "11      12  OTHER  RT @LuisSand0val: Fernando Vargas MANDRILL MEX...\n",
       "12      13  OTHER  Photo: oculi-ds: Mandrill by Natalie Manuel ht...\n",
       "13      14  OTHER  @mandrill ME NEITHER!!! we can be :sadpanda: t...\n",
       "14      15  OTHER  @mandrill n! / ( k! * ( n! - k! ) ) where n = ...\n",
       "15      16  OTHER  Megaman X - Spark Mandrill Acapella: http://yo...\n",
       "16      17  OTHER  @AngelusErrare1 Storm Eagle FTW!!!, nomás no d...\n",
       "17      18  OTHER  Gostei de um vídeo @YouTube http://youtu.be/Xz...\n",
       "18      19  OTHER  What is 2-year-old mandrill, JJ, thinking in t...\n",
       "19      20  OTHER  120 years of Moscow Zoo - Mandrill - Поста ССС..."
      ]
     },
     "execution_count": 16,
     "metadata": {},
     "output_type": "execute_result"
    }
   ],
   "source": [
    "test_tweets.head(30)"
   ]
  },
  {
   "cell_type": "markdown",
   "metadata": {},
   "source": [
    "### Going to now use my model to calculate probabilities based on frequencies in each (other or app) then going to assign class with highest probability"
   ]
  },
  {
   "cell_type": "code",
   "execution_count": 17,
   "metadata": {},
   "outputs": [],
   "source": [
    "test_tweets.loc[:, \"app_prob\"] = test_tweets.loc[:, \"Tweet\"].apply(cleaned_words_model.get_probability_for_tweet)\n",
    "test_tweets.loc[:, \"other_prob\"] = test_tweets.loc[:, \"Tweet\"].apply(other_words_model.get_probability_for_tweet)\n",
    "test_tweets.loc[:, \"prediction\"] = np.where(test_tweets[\"app_prob\"] >= test_tweets[\"other_prob\"],\n",
    "                                      \"APP\",\n",
    "                                      \"OTHER\")"
   ]
  },
  {
   "cell_type": "code",
   "execution_count": 18,
   "metadata": {},
   "outputs": [
    {
     "data": {
      "text/html": [
       "<div>\n",
       "<style scoped>\n",
       "    .dataframe tbody tr th:only-of-type {\n",
       "        vertical-align: middle;\n",
       "    }\n",
       "\n",
       "    .dataframe tbody tr th {\n",
       "        vertical-align: top;\n",
       "    }\n",
       "\n",
       "    .dataframe thead th {\n",
       "        text-align: right;\n",
       "    }\n",
       "</style>\n",
       "<table border=\"1\" class=\"dataframe\">\n",
       "  <thead>\n",
       "    <tr style=\"text-align: right;\">\n",
       "      <th></th>\n",
       "      <th>Number</th>\n",
       "      <th>Class</th>\n",
       "      <th>Tweet</th>\n",
       "      <th>app_prob</th>\n",
       "      <th>other_prob</th>\n",
       "      <th>prediction</th>\n",
       "    </tr>\n",
       "  </thead>\n",
       "  <tbody>\n",
       "    <tr>\n",
       "      <th>0</th>\n",
       "      <td>1</td>\n",
       "      <td>APP</td>\n",
       "      <td>Just love @mandrillapp transactional email ser...</td>\n",
       "      <td>-85.900442</td>\n",
       "      <td>-97.181465</td>\n",
       "      <td>APP</td>\n",
       "    </tr>\n",
       "    <tr>\n",
       "      <th>1</th>\n",
       "      <td>2</td>\n",
       "      <td>APP</td>\n",
       "      <td>@rossdeane Mind submitting a request at http:/...</td>\n",
       "      <td>-128.256084</td>\n",
       "      <td>-140.781974</td>\n",
       "      <td>APP</td>\n",
       "    </tr>\n",
       "    <tr>\n",
       "      <th>2</th>\n",
       "      <td>3</td>\n",
       "      <td>APP</td>\n",
       "      <td>@veroapp Any chance you'll be adding Mandrill ...</td>\n",
       "      <td>-73.491794</td>\n",
       "      <td>-75.440103</td>\n",
       "      <td>APP</td>\n",
       "    </tr>\n",
       "    <tr>\n",
       "      <th>3</th>\n",
       "      <td>4</td>\n",
       "      <td>APP</td>\n",
       "      <td>@Elie__ @camj59 jparle de relai SMTP!1 million...</td>\n",
       "      <td>-183.036787</td>\n",
       "      <td>-192.742443</td>\n",
       "      <td>APP</td>\n",
       "    </tr>\n",
       "    <tr>\n",
       "      <th>4</th>\n",
       "      <td>5</td>\n",
       "      <td>APP</td>\n",
       "      <td>would like to send emails for welcome, passwor...</td>\n",
       "      <td>-139.353995</td>\n",
       "      <td>-147.009004</td>\n",
       "      <td>APP</td>\n",
       "    </tr>\n",
       "  </tbody>\n",
       "</table>\n",
       "</div>"
      ],
      "text/plain": [
       "   Number Class                                              Tweet  \\\n",
       "0       1   APP  Just love @mandrillapp transactional email ser...   \n",
       "1       2   APP  @rossdeane Mind submitting a request at http:/...   \n",
       "2       3   APP  @veroapp Any chance you'll be adding Mandrill ...   \n",
       "3       4   APP  @Elie__ @camj59 jparle de relai SMTP!1 million...   \n",
       "4       5   APP  would like to send emails for welcome, passwor...   \n",
       "\n",
       "     app_prob  other_prob prediction  \n",
       "0  -85.900442  -97.181465        APP  \n",
       "1 -128.256084 -140.781974        APP  \n",
       "2  -73.491794  -75.440103        APP  \n",
       "3 -183.036787 -192.742443        APP  \n",
       "4 -139.353995 -147.009004        APP  "
      ]
     },
     "execution_count": 18,
     "metadata": {},
     "output_type": "execute_result"
    }
   ],
   "source": [
    "test_tweets.head()"
   ]
  },
  {
   "cell_type": "markdown",
   "metadata": {},
   "source": [
    "### Assessing Accuracy"
   ]
  },
  {
   "cell_type": "code",
   "execution_count": 19,
   "metadata": {},
   "outputs": [
    {
     "name": "stdout",
     "output_type": "stream",
     "text": [
      "% Inaccurate: 0.05\n",
      "Num Inaccurate: 1\n"
     ]
    }
   ],
   "source": [
    "total = test_tweets.shape[0]\n",
    "wrong_guesses = np.sum(test_tweets[\"Class\"] != test_tweets[\"prediction\"])\n",
    "print(\"% Inaccurate:\", wrong_guesses / total)\n",
    "print(\"Num Inaccurate:\", wrong_guesses)"
   ]
  },
  {
   "cell_type": "markdown",
   "metadata": {},
   "source": [
    "### This lines up with what the book got, this shows the power of this model, could have also used this with pre-built modules"
   ]
  },
  {
   "cell_type": "code",
   "execution_count": 20,
   "metadata": {},
   "outputs": [],
   "source": [
    "# Start from the top\n",
    "app_tweets_df.loc[:, \"class\"] = 1\n",
    "app_final_df = app_tweets_df.loc[:, [\"Tweet\", \"class\"]]\n",
    "\n",
    "other_tweets_df.loc[:, \"class\"] = 0\n",
    "other_final_df = other_tweets_df.loc[:, [\"Tweet\", \"class\"]]"
   ]
  },
  {
   "cell_type": "code",
   "execution_count": 21,
   "metadata": {},
   "outputs": [],
   "source": [
    "training_df = app_final_df.append(other_final_df)"
   ]
  },
  {
   "cell_type": "code",
   "execution_count": 22,
   "metadata": {},
   "outputs": [
    {
     "data": {
      "text/plain": [
       "1    150\n",
       "0    150\n",
       "Name: class, dtype: int64"
      ]
     },
     "execution_count": 22,
     "metadata": {},
     "output_type": "execute_result"
    }
   ],
   "source": [
    "training_df[\"class\"].value_counts()"
   ]
  },
  {
   "cell_type": "code",
   "execution_count": 23,
   "metadata": {},
   "outputs": [
    {
     "data": {
      "text/html": [
       "<div>\n",
       "<style scoped>\n",
       "    .dataframe tbody tr th:only-of-type {\n",
       "        vertical-align: middle;\n",
       "    }\n",
       "\n",
       "    .dataframe tbody tr th {\n",
       "        vertical-align: top;\n",
       "    }\n",
       "\n",
       "    .dataframe thead th {\n",
       "        text-align: right;\n",
       "    }\n",
       "</style>\n",
       "<table border=\"1\" class=\"dataframe\">\n",
       "  <thead>\n",
       "    <tr style=\"text-align: right;\">\n",
       "      <th></th>\n",
       "      <th>Tweet</th>\n",
       "      <th>class</th>\n",
       "    </tr>\n",
       "  </thead>\n",
       "  <tbody>\n",
       "    <tr>\n",
       "      <th>0</th>\n",
       "      <td>[blog] Using Nullmailer and Mandrill for your ...</td>\n",
       "      <td>1</td>\n",
       "    </tr>\n",
       "    <tr>\n",
       "      <th>1</th>\n",
       "      <td>[blog] Using Postfix and free Mandrill email s...</td>\n",
       "      <td>1</td>\n",
       "    </tr>\n",
       "    <tr>\n",
       "      <th>2</th>\n",
       "      <td>@aalbertson There are several reasons emails g...</td>\n",
       "      <td>1</td>\n",
       "    </tr>\n",
       "    <tr>\n",
       "      <th>3</th>\n",
       "      <td>@adrienneleigh I just switched it over to Mand...</td>\n",
       "      <td>1</td>\n",
       "    </tr>\n",
       "    <tr>\n",
       "      <th>4</th>\n",
       "      <td>@ankeshk +1 to @mailchimp We use MailChimp for...</td>\n",
       "      <td>1</td>\n",
       "    </tr>\n",
       "  </tbody>\n",
       "</table>\n",
       "</div>"
      ],
      "text/plain": [
       "                                               Tweet  class\n",
       "0  [blog] Using Nullmailer and Mandrill for your ...      1\n",
       "1  [blog] Using Postfix and free Mandrill email s...      1\n",
       "2  @aalbertson There are several reasons emails g...      1\n",
       "3  @adrienneleigh I just switched it over to Mand...      1\n",
       "4  @ankeshk +1 to @mailchimp We use MailChimp for...      1"
      ]
     },
     "execution_count": 23,
     "metadata": {},
     "output_type": "execute_result"
    }
   ],
   "source": [
    "training_df.head()"
   ]
  },
  {
   "cell_type": "markdown",
   "metadata": {},
   "source": [
    "Count Use a Vectorize to do the cleaning work for us"
   ]
  },
  {
   "cell_type": "code",
   "execution_count": 24,
   "metadata": {},
   "outputs": [],
   "source": [
    "from sklearn.feature_extraction.text import CountVectorizer\n",
    "cv = CountVectorizer(strip_accents=\"ascii\", \n",
    "                     lowercase=True,\n",
    "                     analyzer=\"word\"\n",
    "                    )\n",
    "\n",
    "X_train = cv.fit_transform(training_df.loc[:, \"Tweet\"])\n",
    "X_test = cv.transform(test_tweets.loc[:, \"Tweet\"])\n",
    "y_train = training_df.loc[:, \"class\"]"
   ]
  },
  {
   "cell_type": "code",
   "execution_count": 25,
   "metadata": {},
   "outputs": [],
   "source": [
    "from sklearn.naive_bayes import MultinomialNB\n",
    "naive_bayes = MultinomialNB(fit_prior=False) # just assume uniform rather than calculate priors\n",
    "naive_bayes.fit(X_train, y_train)\n",
    "predictions = naive_bayes.predict(X_test)"
   ]
  },
  {
   "cell_type": "code",
   "execution_count": 26,
   "metadata": {},
   "outputs": [
    {
     "name": "stdout",
     "output_type": "stream",
     "text": [
      "Accuracy 0.9\n"
     ]
    }
   ],
   "source": [
    "# Scoring\n",
    "from sklearn.metrics import accuracy_score\n",
    "print(\"Accuracy\", accuracy_score(test_tweets.loc[:, \"Class\"] == \"APP\", predictions))"
   ]
  },
  {
   "cell_type": "markdown",
   "metadata": {},
   "source": [
    "So here we see that the built in classifier missed one more (missed 2 out of 20 compared to 1 out of 20). I'm not suprised given that the word vectorizer is slightly different it's not unreasonable that they are off by 1 here, but it's nice to see comparison of off the shelf tooling, though this notebook also shows you how easy it is to code it from scratch"
   ]
  }
 ],
 "metadata": {
  "kernelspec": {
   "display_name": "Python 3",
   "language": "python",
   "name": "python3"
  },
  "language_info": {
   "codemirror_mode": {
    "name": "ipython",
    "version": 3
   },
   "file_extension": ".py",
   "mimetype": "text/x-python",
   "name": "python",
   "nbconvert_exporter": "python",
   "pygments_lexer": "ipython3",
   "version": "3.6.9"
  }
 },
 "nbformat": 4,
 "nbformat_minor": 4
}
