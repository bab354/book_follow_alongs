{
 "cells": [
  {
   "cell_type": "markdown",
   "metadata": {},
   "source": [
    "# CHAPTER 2: K-Means Clustering\n",
    "\n",
    "Objective: Bin your data into groups where there aren't existing labels to try to predict\n",
    "\n",
    "In this chapter, we will be trying to group together customers based on purchase behavior in the hopes we could try to market to each group separately and with custom copy compared to just sending the same ad copy to every single customer"
   ]
  },
  {
   "cell_type": "code",
   "execution_count": 229,
   "metadata": {},
   "outputs": [],
   "source": [
    "import pandas as pd\n",
    "import numpy as np\n",
    "import matplotlib.pyplot as plt"
   ]
  },
  {
   "cell_type": "code",
   "execution_count": 2,
   "metadata": {},
   "outputs": [],
   "source": [
    "excel_file_obj = pd.ExcelFile(\"../raw_data/WineKMC.xlsx\")\n",
    "# Information on the type of offers\n",
    "offers = pd.read_excel(excel_file_obj, \"OfferInformation\")\n",
    "# Information on which customers took which offers\n",
    "transactions = pd.read_excel(excel_file_obj, \"Transactions\")"
   ]
  },
  {
   "cell_type": "code",
   "execution_count": 3,
   "metadata": {},
   "outputs": [
    {
     "data": {
      "text/html": [
       "<div>\n",
       "<style scoped>\n",
       "    .dataframe tbody tr th:only-of-type {\n",
       "        vertical-align: middle;\n",
       "    }\n",
       "\n",
       "    .dataframe tbody tr th {\n",
       "        vertical-align: top;\n",
       "    }\n",
       "\n",
       "    .dataframe thead th {\n",
       "        text-align: right;\n",
       "    }\n",
       "</style>\n",
       "<table border=\"1\" class=\"dataframe\">\n",
       "  <thead>\n",
       "    <tr style=\"text-align: right;\">\n",
       "      <th></th>\n",
       "      <th>Offer #</th>\n",
       "      <th>Campaign</th>\n",
       "      <th>Varietal</th>\n",
       "      <th>Minimum Qty (kg)</th>\n",
       "      <th>Discount (%)</th>\n",
       "      <th>Origin</th>\n",
       "      <th>Past Peak</th>\n",
       "    </tr>\n",
       "  </thead>\n",
       "  <tbody>\n",
       "    <tr>\n",
       "      <th>0</th>\n",
       "      <td>1</td>\n",
       "      <td>January</td>\n",
       "      <td>Malbec</td>\n",
       "      <td>72</td>\n",
       "      <td>56</td>\n",
       "      <td>France</td>\n",
       "      <td>False</td>\n",
       "    </tr>\n",
       "    <tr>\n",
       "      <th>1</th>\n",
       "      <td>2</td>\n",
       "      <td>January</td>\n",
       "      <td>Pinot Noir</td>\n",
       "      <td>72</td>\n",
       "      <td>17</td>\n",
       "      <td>France</td>\n",
       "      <td>False</td>\n",
       "    </tr>\n",
       "    <tr>\n",
       "      <th>2</th>\n",
       "      <td>3</td>\n",
       "      <td>February</td>\n",
       "      <td>Espumante</td>\n",
       "      <td>144</td>\n",
       "      <td>32</td>\n",
       "      <td>Oregon</td>\n",
       "      <td>True</td>\n",
       "    </tr>\n",
       "    <tr>\n",
       "      <th>3</th>\n",
       "      <td>4</td>\n",
       "      <td>February</td>\n",
       "      <td>Champagne</td>\n",
       "      <td>72</td>\n",
       "      <td>48</td>\n",
       "      <td>France</td>\n",
       "      <td>True</td>\n",
       "    </tr>\n",
       "    <tr>\n",
       "      <th>4</th>\n",
       "      <td>5</td>\n",
       "      <td>February</td>\n",
       "      <td>Cabernet Sauvignon</td>\n",
       "      <td>144</td>\n",
       "      <td>44</td>\n",
       "      <td>New Zealand</td>\n",
       "      <td>True</td>\n",
       "    </tr>\n",
       "  </tbody>\n",
       "</table>\n",
       "</div>"
      ],
      "text/plain": [
       "   Offer #  Campaign            Varietal  Minimum Qty (kg)  Discount (%)  \\\n",
       "0        1   January              Malbec                72            56   \n",
       "1        2   January          Pinot Noir                72            17   \n",
       "2        3  February           Espumante               144            32   \n",
       "3        4  February           Champagne                72            48   \n",
       "4        5  February  Cabernet Sauvignon               144            44   \n",
       "\n",
       "        Origin  Past Peak  \n",
       "0       France      False  \n",
       "1       France      False  \n",
       "2       Oregon       True  \n",
       "3       France       True  \n",
       "4  New Zealand       True  "
      ]
     },
     "execution_count": 3,
     "metadata": {},
     "output_type": "execute_result"
    }
   ],
   "source": [
    "offers.head()"
   ]
  },
  {
   "cell_type": "code",
   "execution_count": 4,
   "metadata": {},
   "outputs": [
    {
     "data": {
      "text/html": [
       "<div>\n",
       "<style scoped>\n",
       "    .dataframe tbody tr th:only-of-type {\n",
       "        vertical-align: middle;\n",
       "    }\n",
       "\n",
       "    .dataframe tbody tr th {\n",
       "        vertical-align: top;\n",
       "    }\n",
       "\n",
       "    .dataframe thead th {\n",
       "        text-align: right;\n",
       "    }\n",
       "</style>\n",
       "<table border=\"1\" class=\"dataframe\">\n",
       "  <thead>\n",
       "    <tr style=\"text-align: right;\">\n",
       "      <th></th>\n",
       "      <th>Customer Last Name</th>\n",
       "      <th>Offer #</th>\n",
       "    </tr>\n",
       "  </thead>\n",
       "  <tbody>\n",
       "    <tr>\n",
       "      <th>0</th>\n",
       "      <td>Smith</td>\n",
       "      <td>2</td>\n",
       "    </tr>\n",
       "    <tr>\n",
       "      <th>1</th>\n",
       "      <td>Smith</td>\n",
       "      <td>24</td>\n",
       "    </tr>\n",
       "    <tr>\n",
       "      <th>2</th>\n",
       "      <td>Johnson</td>\n",
       "      <td>17</td>\n",
       "    </tr>\n",
       "    <tr>\n",
       "      <th>3</th>\n",
       "      <td>Johnson</td>\n",
       "      <td>24</td>\n",
       "    </tr>\n",
       "    <tr>\n",
       "      <th>4</th>\n",
       "      <td>Johnson</td>\n",
       "      <td>26</td>\n",
       "    </tr>\n",
       "  </tbody>\n",
       "</table>\n",
       "</div>"
      ],
      "text/plain": [
       "  Customer Last Name  Offer #\n",
       "0              Smith        2\n",
       "1              Smith       24\n",
       "2            Johnson       17\n",
       "3            Johnson       24\n",
       "4            Johnson       26"
      ]
     },
     "execution_count": 4,
     "metadata": {},
     "output_type": "execute_result"
    }
   ],
   "source": [
    "transactions.head()"
   ]
  },
  {
   "cell_type": "markdown",
   "metadata": {},
   "source": [
    "### In the book, he creates a matrix where rows are offers and columns are customers, this would create clusters by offer , where the cluster would live in 100 dimensional space. We want to instead cluster the customers in 32-dimensional space, so will change format since sklearn kMeans expects a dataframe where the objects you are trying to cluster live as rows"
   ]
  },
  {
   "cell_type": "code",
   "execution_count": 184,
   "metadata": {},
   "outputs": [],
   "source": [
    "customer_order_matrix = pd.pivot_table(transactions, \n",
    "                                       index=[\"Customer Last Name\"],\n",
    "                                       columns=[\"Offer #\"],\n",
    "                                       aggfunc=lambda x: int(np.size(x) > 0),\n",
    "                                       fill_value=0\n",
    "                                      )"
   ]
  },
  {
   "cell_type": "code",
   "execution_count": 185,
   "metadata": {},
   "outputs": [
    {
     "data": {
      "text/html": [
       "<div>\n",
       "<style scoped>\n",
       "    .dataframe tbody tr th:only-of-type {\n",
       "        vertical-align: middle;\n",
       "    }\n",
       "\n",
       "    .dataframe tbody tr th {\n",
       "        vertical-align: top;\n",
       "    }\n",
       "\n",
       "    .dataframe thead th {\n",
       "        text-align: right;\n",
       "    }\n",
       "</style>\n",
       "<table border=\"1\" class=\"dataframe\">\n",
       "  <thead>\n",
       "    <tr style=\"text-align: right;\">\n",
       "      <th>Offer #</th>\n",
       "      <th>1</th>\n",
       "      <th>2</th>\n",
       "      <th>3</th>\n",
       "      <th>4</th>\n",
       "      <th>5</th>\n",
       "      <th>6</th>\n",
       "      <th>7</th>\n",
       "      <th>8</th>\n",
       "      <th>9</th>\n",
       "      <th>10</th>\n",
       "      <th>...</th>\n",
       "      <th>23</th>\n",
       "      <th>24</th>\n",
       "      <th>25</th>\n",
       "      <th>26</th>\n",
       "      <th>27</th>\n",
       "      <th>28</th>\n",
       "      <th>29</th>\n",
       "      <th>30</th>\n",
       "      <th>31</th>\n",
       "      <th>32</th>\n",
       "    </tr>\n",
       "    <tr>\n",
       "      <th>Customer Last Name</th>\n",
       "      <th></th>\n",
       "      <th></th>\n",
       "      <th></th>\n",
       "      <th></th>\n",
       "      <th></th>\n",
       "      <th></th>\n",
       "      <th></th>\n",
       "      <th></th>\n",
       "      <th></th>\n",
       "      <th></th>\n",
       "      <th></th>\n",
       "      <th></th>\n",
       "      <th></th>\n",
       "      <th></th>\n",
       "      <th></th>\n",
       "      <th></th>\n",
       "      <th></th>\n",
       "      <th></th>\n",
       "      <th></th>\n",
       "      <th></th>\n",
       "      <th></th>\n",
       "    </tr>\n",
       "  </thead>\n",
       "  <tbody>\n",
       "    <tr>\n",
       "      <th>Adams</th>\n",
       "      <td>0</td>\n",
       "      <td>0</td>\n",
       "      <td>0</td>\n",
       "      <td>0</td>\n",
       "      <td>0</td>\n",
       "      <td>0</td>\n",
       "      <td>0</td>\n",
       "      <td>0</td>\n",
       "      <td>0</td>\n",
       "      <td>0</td>\n",
       "      <td>...</td>\n",
       "      <td>0</td>\n",
       "      <td>0</td>\n",
       "      <td>0</td>\n",
       "      <td>0</td>\n",
       "      <td>0</td>\n",
       "      <td>0</td>\n",
       "      <td>1</td>\n",
       "      <td>1</td>\n",
       "      <td>0</td>\n",
       "      <td>0</td>\n",
       "    </tr>\n",
       "    <tr>\n",
       "      <th>Allen</th>\n",
       "      <td>0</td>\n",
       "      <td>0</td>\n",
       "      <td>0</td>\n",
       "      <td>0</td>\n",
       "      <td>0</td>\n",
       "      <td>0</td>\n",
       "      <td>0</td>\n",
       "      <td>0</td>\n",
       "      <td>1</td>\n",
       "      <td>0</td>\n",
       "      <td>...</td>\n",
       "      <td>0</td>\n",
       "      <td>0</td>\n",
       "      <td>0</td>\n",
       "      <td>0</td>\n",
       "      <td>1</td>\n",
       "      <td>0</td>\n",
       "      <td>0</td>\n",
       "      <td>0</td>\n",
       "      <td>0</td>\n",
       "      <td>0</td>\n",
       "    </tr>\n",
       "    <tr>\n",
       "      <th>Anderson</th>\n",
       "      <td>0</td>\n",
       "      <td>0</td>\n",
       "      <td>0</td>\n",
       "      <td>0</td>\n",
       "      <td>0</td>\n",
       "      <td>0</td>\n",
       "      <td>0</td>\n",
       "      <td>0</td>\n",
       "      <td>0</td>\n",
       "      <td>0</td>\n",
       "      <td>...</td>\n",
       "      <td>0</td>\n",
       "      <td>1</td>\n",
       "      <td>0</td>\n",
       "      <td>1</td>\n",
       "      <td>0</td>\n",
       "      <td>0</td>\n",
       "      <td>0</td>\n",
       "      <td>0</td>\n",
       "      <td>0</td>\n",
       "      <td>0</td>\n",
       "    </tr>\n",
       "    <tr>\n",
       "      <th>Bailey</th>\n",
       "      <td>0</td>\n",
       "      <td>0</td>\n",
       "      <td>0</td>\n",
       "      <td>0</td>\n",
       "      <td>0</td>\n",
       "      <td>0</td>\n",
       "      <td>1</td>\n",
       "      <td>0</td>\n",
       "      <td>0</td>\n",
       "      <td>0</td>\n",
       "      <td>...</td>\n",
       "      <td>0</td>\n",
       "      <td>0</td>\n",
       "      <td>0</td>\n",
       "      <td>0</td>\n",
       "      <td>0</td>\n",
       "      <td>0</td>\n",
       "      <td>0</td>\n",
       "      <td>1</td>\n",
       "      <td>0</td>\n",
       "      <td>0</td>\n",
       "    </tr>\n",
       "    <tr>\n",
       "      <th>Baker</th>\n",
       "      <td>0</td>\n",
       "      <td>0</td>\n",
       "      <td>0</td>\n",
       "      <td>0</td>\n",
       "      <td>0</td>\n",
       "      <td>0</td>\n",
       "      <td>1</td>\n",
       "      <td>0</td>\n",
       "      <td>0</td>\n",
       "      <td>1</td>\n",
       "      <td>...</td>\n",
       "      <td>0</td>\n",
       "      <td>0</td>\n",
       "      <td>0</td>\n",
       "      <td>0</td>\n",
       "      <td>0</td>\n",
       "      <td>0</td>\n",
       "      <td>0</td>\n",
       "      <td>0</td>\n",
       "      <td>1</td>\n",
       "      <td>0</td>\n",
       "    </tr>\n",
       "  </tbody>\n",
       "</table>\n",
       "<p>5 rows × 32 columns</p>\n",
       "</div>"
      ],
      "text/plain": [
       "Offer #             1   2   3   4   5   6   7   8   9   10  ...  23  24  25  \\\n",
       "Customer Last Name                                          ...               \n",
       "Adams                0   0   0   0   0   0   0   0   0   0  ...   0   0   0   \n",
       "Allen                0   0   0   0   0   0   0   0   1   0  ...   0   0   0   \n",
       "Anderson             0   0   0   0   0   0   0   0   0   0  ...   0   1   0   \n",
       "Bailey               0   0   0   0   0   0   1   0   0   0  ...   0   0   0   \n",
       "Baker                0   0   0   0   0   0   1   0   0   1  ...   0   0   0   \n",
       "\n",
       "Offer #             26  27  28  29  30  31  32  \n",
       "Customer Last Name                              \n",
       "Adams                0   0   0   1   1   0   0  \n",
       "Allen                0   1   0   0   0   0   0  \n",
       "Anderson             1   0   0   0   0   0   0  \n",
       "Bailey               0   0   0   0   1   0   0  \n",
       "Baker                0   0   0   0   0   1   0  \n",
       "\n",
       "[5 rows x 32 columns]"
      ]
     },
     "execution_count": 185,
     "metadata": {},
     "output_type": "execute_result"
    }
   ],
   "source": [
    "customer_order_matrix.head()"
   ]
  },
  {
   "cell_type": "markdown",
   "metadata": {},
   "source": [
    "## K-means.\n",
    "     Found this article really good for refreshing on why centroid locations are set where they are:\n",
    "     https://www.cs.princeton.edu/courses/archive/fall18/cos324/files/kmeans.pdf\n",
    "     Slide 30 from here is also good:\n",
    "     https://github.com/harvard-ml-courses/cs181-lectures/blob/master/s17/12.handout.pdf\n",
    "     \n",
    "     This also helped me understand why the algorithm converges (cost goes down over time):\n",
    "     https://cseweb.ucsd.edu/~dasgupta/291-unsup/lec2.pdf\n",
    "     \n",
    "     \n",
    "     But here is lloyd's algo in a nutshell:\n",
    "     1. Initliaize K where K is the number of clusters\n",
    "     1. Pick K random vectors u_k in space\n",
    "     2. Assign each point in your data to closest u_k using Euclidian Distance (will have to standarize feature set if necessary)\n",
    "     3. For each cluster, set new u_k to be the centroid or avg of all the points in the cluster.\n",
    "     \n",
    "     NOTE: This algo is non-deterministic so can get different runs if you run over and over"
   ]
  },
  {
   "cell_type": "code",
   "execution_count": 225,
   "metadata": {},
   "outputs": [
    {
     "name": "stdout",
     "output_type": "stream",
     "text": [
      "Total Distance 214.5642227905655\n"
     ]
    }
   ],
   "source": [
    "from sklearn.cluster import KMeans\n",
    "# Follow the book with K = 4\n",
    "\n",
    "kmeans = KMeans(n_clusters=4, random_state=3).fit(customer_order_matrix)\n",
    "cluster_assignments = kmeans.labels_\n",
    "print(\"Total Distance\", kmeans.inertia_)"
   ]
  },
  {
   "cell_type": "markdown",
   "metadata": {},
   "source": [
    "### So my cluster centers live 32 dimensional space, one for each product and there are 100 cluster assignments, one for each customer"
   ]
  },
  {
   "cell_type": "code",
   "execution_count": 191,
   "metadata": {},
   "outputs": [],
   "source": [
    "cluster_assignments = kmeans.labels_"
   ]
  },
  {
   "cell_type": "code",
   "execution_count": 202,
   "metadata": {},
   "outputs": [],
   "source": [
    "customer_list = customer_order_matrix.index"
   ]
  },
  {
   "cell_type": "code",
   "execution_count": 224,
   "metadata": {},
   "outputs": [
    {
     "data": {
      "text/plain": [
       "[('Adams', 0), ('Allen', 3), ('Anderson', 1), ('Bailey', 0), ('Baker', 0)]"
      ]
     },
     "execution_count": 224,
     "metadata": {},
     "output_type": "execute_result"
    }
   ],
   "source": [
    "customer_cluster = list(zip(customer_list, cluster_assignments))\n",
    "customer_cluster[0:5]"
   ]
  },
  {
   "cell_type": "code",
   "execution_count": 205,
   "metadata": {},
   "outputs": [
    {
     "data": {
      "text/html": [
       "<div>\n",
       "<style scoped>\n",
       "    .dataframe tbody tr th:only-of-type {\n",
       "        vertical-align: middle;\n",
       "    }\n",
       "\n",
       "    .dataframe tbody tr th {\n",
       "        vertical-align: top;\n",
       "    }\n",
       "\n",
       "    .dataframe thead th {\n",
       "        text-align: right;\n",
       "    }\n",
       "</style>\n",
       "<table border=\"1\" class=\"dataframe\">\n",
       "  <thead>\n",
       "    <tr style=\"text-align: right;\">\n",
       "      <th>Offer #</th>\n",
       "      <th>1</th>\n",
       "      <th>2</th>\n",
       "      <th>3</th>\n",
       "      <th>4</th>\n",
       "      <th>5</th>\n",
       "      <th>6</th>\n",
       "      <th>7</th>\n",
       "      <th>8</th>\n",
       "      <th>9</th>\n",
       "      <th>10</th>\n",
       "      <th>...</th>\n",
       "      <th>23</th>\n",
       "      <th>24</th>\n",
       "      <th>25</th>\n",
       "      <th>26</th>\n",
       "      <th>27</th>\n",
       "      <th>28</th>\n",
       "      <th>29</th>\n",
       "      <th>30</th>\n",
       "      <th>31</th>\n",
       "      <th>32</th>\n",
       "    </tr>\n",
       "    <tr>\n",
       "      <th>Customer Last Name</th>\n",
       "      <th></th>\n",
       "      <th></th>\n",
       "      <th></th>\n",
       "      <th></th>\n",
       "      <th></th>\n",
       "      <th></th>\n",
       "      <th></th>\n",
       "      <th></th>\n",
       "      <th></th>\n",
       "      <th></th>\n",
       "      <th></th>\n",
       "      <th></th>\n",
       "      <th></th>\n",
       "      <th></th>\n",
       "      <th></th>\n",
       "      <th></th>\n",
       "      <th></th>\n",
       "      <th></th>\n",
       "      <th></th>\n",
       "      <th></th>\n",
       "      <th></th>\n",
       "    </tr>\n",
       "  </thead>\n",
       "  <tbody>\n",
       "    <tr>\n",
       "      <th>Adams</th>\n",
       "      <td>0</td>\n",
       "      <td>0</td>\n",
       "      <td>0</td>\n",
       "      <td>0</td>\n",
       "      <td>0</td>\n",
       "      <td>0</td>\n",
       "      <td>0</td>\n",
       "      <td>0</td>\n",
       "      <td>0</td>\n",
       "      <td>0</td>\n",
       "      <td>...</td>\n",
       "      <td>0</td>\n",
       "      <td>0</td>\n",
       "      <td>0</td>\n",
       "      <td>0</td>\n",
       "      <td>0</td>\n",
       "      <td>0</td>\n",
       "      <td>1</td>\n",
       "      <td>1</td>\n",
       "      <td>0</td>\n",
       "      <td>0</td>\n",
       "    </tr>\n",
       "    <tr>\n",
       "      <th>Allen</th>\n",
       "      <td>0</td>\n",
       "      <td>0</td>\n",
       "      <td>0</td>\n",
       "      <td>0</td>\n",
       "      <td>0</td>\n",
       "      <td>0</td>\n",
       "      <td>0</td>\n",
       "      <td>0</td>\n",
       "      <td>1</td>\n",
       "      <td>0</td>\n",
       "      <td>...</td>\n",
       "      <td>0</td>\n",
       "      <td>0</td>\n",
       "      <td>0</td>\n",
       "      <td>0</td>\n",
       "      <td>1</td>\n",
       "      <td>0</td>\n",
       "      <td>0</td>\n",
       "      <td>0</td>\n",
       "      <td>0</td>\n",
       "      <td>0</td>\n",
       "    </tr>\n",
       "    <tr>\n",
       "      <th>Anderson</th>\n",
       "      <td>0</td>\n",
       "      <td>0</td>\n",
       "      <td>0</td>\n",
       "      <td>0</td>\n",
       "      <td>0</td>\n",
       "      <td>0</td>\n",
       "      <td>0</td>\n",
       "      <td>0</td>\n",
       "      <td>0</td>\n",
       "      <td>0</td>\n",
       "      <td>...</td>\n",
       "      <td>0</td>\n",
       "      <td>1</td>\n",
       "      <td>0</td>\n",
       "      <td>1</td>\n",
       "      <td>0</td>\n",
       "      <td>0</td>\n",
       "      <td>0</td>\n",
       "      <td>0</td>\n",
       "      <td>0</td>\n",
       "      <td>0</td>\n",
       "    </tr>\n",
       "    <tr>\n",
       "      <th>Bailey</th>\n",
       "      <td>0</td>\n",
       "      <td>0</td>\n",
       "      <td>0</td>\n",
       "      <td>0</td>\n",
       "      <td>0</td>\n",
       "      <td>0</td>\n",
       "      <td>1</td>\n",
       "      <td>0</td>\n",
       "      <td>0</td>\n",
       "      <td>0</td>\n",
       "      <td>...</td>\n",
       "      <td>0</td>\n",
       "      <td>0</td>\n",
       "      <td>0</td>\n",
       "      <td>0</td>\n",
       "      <td>0</td>\n",
       "      <td>0</td>\n",
       "      <td>0</td>\n",
       "      <td>1</td>\n",
       "      <td>0</td>\n",
       "      <td>0</td>\n",
       "    </tr>\n",
       "    <tr>\n",
       "      <th>Baker</th>\n",
       "      <td>0</td>\n",
       "      <td>0</td>\n",
       "      <td>0</td>\n",
       "      <td>0</td>\n",
       "      <td>0</td>\n",
       "      <td>0</td>\n",
       "      <td>1</td>\n",
       "      <td>0</td>\n",
       "      <td>0</td>\n",
       "      <td>1</td>\n",
       "      <td>...</td>\n",
       "      <td>0</td>\n",
       "      <td>0</td>\n",
       "      <td>0</td>\n",
       "      <td>0</td>\n",
       "      <td>0</td>\n",
       "      <td>0</td>\n",
       "      <td>0</td>\n",
       "      <td>0</td>\n",
       "      <td>1</td>\n",
       "      <td>0</td>\n",
       "    </tr>\n",
       "  </tbody>\n",
       "</table>\n",
       "<p>5 rows × 32 columns</p>\n",
       "</div>"
      ],
      "text/plain": [
       "Offer #             1   2   3   4   5   6   7   8   9   10  ...  23  24  25  \\\n",
       "Customer Last Name                                          ...               \n",
       "Adams                0   0   0   0   0   0   0   0   0   0  ...   0   0   0   \n",
       "Allen                0   0   0   0   0   0   0   0   1   0  ...   0   0   0   \n",
       "Anderson             0   0   0   0   0   0   0   0   0   0  ...   0   1   0   \n",
       "Bailey               0   0   0   0   0   0   1   0   0   0  ...   0   0   0   \n",
       "Baker                0   0   0   0   0   0   1   0   0   1  ...   0   0   0   \n",
       "\n",
       "Offer #             26  27  28  29  30  31  32  \n",
       "Customer Last Name                              \n",
       "Adams                0   0   0   1   1   0   0  \n",
       "Allen                0   1   0   0   0   0   0  \n",
       "Anderson             1   0   0   0   0   0   0  \n",
       "Bailey               0   0   0   0   1   0   0  \n",
       "Baker                0   0   0   0   0   1   0  \n",
       "\n",
       "[5 rows x 32 columns]"
      ]
     },
     "execution_count": 205,
     "metadata": {},
     "output_type": "execute_result"
    }
   ],
   "source": [
    "customer_order_matrix.head()"
   ]
  },
  {
   "cell_type": "code",
   "execution_count": 208,
   "metadata": {},
   "outputs": [],
   "source": [
    "# Want to transpose it so easier to get sums when orders are the row\n",
    "orders_T = customer_order_matrix.T"
   ]
  },
  {
   "cell_type": "code",
   "execution_count": 227,
   "metadata": {},
   "outputs": [],
   "source": [
    "def get_customers_from_cluster(cluster_number, customer_cluster_list, df):\n",
    "    customers_to_keep = [customer for (customer, cluster) \n",
    "                            in customer_cluster_list if cluster == cluster_number]\n",
    "    offer_sums = df.loc[:, customers_to_keep]\n",
    "    offer_sums.loc[:, \"total_orders\"] = df.loc[:, customers_to_keep].sum(axis=1)\n",
    "    offer_sums = offer_sums.drop(customers_to_keep, axis=1)\n",
    "    return offer_sums"
   ]
  },
  {
   "cell_type": "code",
   "execution_count": 228,
   "metadata": {},
   "outputs": [
    {
     "name": "stdout",
     "output_type": "stream",
     "text": [
      "Cluster 0\n",
      "Num Products Ordered in Cluster: 16\n",
      "Customer Last Name  total_orders\n",
      "Offer #                         \n",
      "30                            17\n",
      "7                             16\n",
      "8                             16\n",
      "29                            16\n",
      "18                            13\n",
      "13                             6\n",
      "10                             3\n",
      "11                             1\n",
      "\n",
      "\n",
      "Cluster 1\n",
      "Num Products Ordered in Cluster: 10\n",
      "Customer Last Name  total_orders\n",
      "Offer #                         \n",
      "26                            12\n",
      "24                            12\n",
      "17                             7\n",
      "2                              7\n",
      "1                              2\n",
      "10                             1\n",
      "12                             1\n",
      "27                             1\n",
      "\n",
      "\n",
      "Cluster 2\n",
      "Num Products Ordered in Cluster: 27\n",
      "Customer Last Name  total_orders\n",
      "Offer #                         \n",
      "22                            21\n",
      "31                             8\n",
      "6                              7\n",
      "14                             7\n",
      "1                              6\n",
      "15                             5\n",
      "11                             5\n",
      "30                             4\n",
      "\n",
      "\n",
      "Cluster 3\n",
      "Num Products Ordered in Cluster: 25\n",
      "Customer Last Name  total_orders\n",
      "Offer #                         \n",
      "31                             8\n",
      "4                              8\n",
      "9                              8\n",
      "11                             7\n",
      "20                             5\n",
      "16                             4\n",
      "6                              4\n",
      "27                             4\n",
      "\n",
      "\n"
     ]
    }
   ],
   "source": [
    "for i in range(4):\n",
    "    print(\"Cluster\", i)\n",
    "    cluster_df = get_customers_from_cluster(i, customer_cluster, orders_T)\n",
    "    print(\"Num Products Ordered in Cluster:\", np.sum(cluster_df[\"total_orders\"] > 0))\n",
    "    print(cluster_df.sort_values(\"total_orders\", ascending=False).head(8))\n",
    "    print(\"\\n\")"
   ]
  },
  {
   "cell_type": "markdown",
   "metadata": {},
   "source": [
    "### Conclusion is you can see that it did successfully try to find certain ordering patterns and group customers accordingly"
   ]
  },
  {
   "cell_type": "markdown",
   "metadata": {},
   "source": [
    "## Next going to pick k"
   ]
  },
  {
   "cell_type": "code",
   "execution_count": 258,
   "metadata": {},
   "outputs": [],
   "source": [
    "k_vector = range(2, 10)"
   ]
  },
  {
   "cell_type": "markdown",
   "metadata": {},
   "source": [
    "## Method 1 not in book - just use inertia or Sum of squared distances of samples to their closest cluster center and look for kink\n"
   ]
  },
  {
   "cell_type": "code",
   "execution_count": 259,
   "metadata": {},
   "outputs": [],
   "source": [
    "distance_vals = []\n",
    "for k in k_vector:\n",
    "    km = KMeans(n_clusters=k, random_state=3).fit(customer_order_matrix)\n",
    "    distance_vals.append(km.inertia_)"
   ]
  },
  {
   "cell_type": "code",
   "execution_count": 260,
   "metadata": {},
   "outputs": [
    {
     "data": {
      "image/png": "[encoded data removed]",
      "text/plain": [
       "<Figure size 432x288 with 1 Axes>"
      ]
     },
     "metadata": {
      "needs_background": "light"
     },
     "output_type": "display_data"
    }
   ],
   "source": [
    "plt.plot(k_vector, distance_vals)\n",
    "plt.xlabel(\"k\")\n",
    "plt.ylabel(\"Total Distance\")\n",
    "plt.title(\"Inertia vs K\")\n",
    "plt.show()"
   ]
  },
  {
   "cell_type": "markdown",
   "metadata": {},
   "source": [
    "### This displays the down side of this metric, you may not always see a \"kink\" in this case you would probably go with 3 and 5 otherwise number of clusters becomes too high to be useful from a business perspective"
   ]
  },
  {
   "cell_type": "markdown",
   "metadata": {},
   "source": [
    "### Method 2 - Silhouette Score\n",
    "\n",
    "(Avg Distance to those in nearest neighboring cluster - Avg Dist to those in my cluster) / Maximum of those 2\n",
    "\n",
    "The denominator keeps it between -1 and 1. If the two values in the numerator are almost the same then that means the value will be 0, which makes sense, if a point is just as close to another cluster as it's own, then it's not a very good segmentation. If it's less than negative 1 that is a very bad score because it means a point in cluster a was actually closer to points in cluster b and should have been moved"
   ]
  },
  {
   "cell_type": "code",
   "execution_count": 261,
   "metadata": {},
   "outputs": [],
   "source": [
    "from sklearn.metrics import silhouette_score\n",
    "silhouette_scores = []\n",
    "for k in k_vector:\n",
    "    km = KMeans(n_clusters=k, random_state=3)\n",
    "    preds = km.fit_predict(customer_order_matrix)\n",
    "    score = silhouette_score(customer_order_matrix, preds)\n",
    "    silhouette_scores.append(score)"
   ]
  },
  {
   "cell_type": "code",
   "execution_count": 262,
   "metadata": {},
   "outputs": [
    {
     "data": {
      "image/png": "[encoded data removed]",
      "text/plain": [
       "<Figure size 432x288 with 1 Axes>"
      ]
     },
     "metadata": {
      "needs_background": "light"
     },
     "output_type": "display_data"
    }
   ],
   "source": [
    "plt.plot(k_vector, silhouette_scores)\n",
    "plt.xlabel(\"k\")\n",
    "plt.ylabel(\"Silhouette Score\")\n",
    "plt.title(\"Silhouette Score vs K\")\n",
    "plt.show()"
   ]
  },
  {
   "cell_type": "markdown",
   "metadata": {},
   "source": [
    "### Take-away, so all of these values are close to k which isn't the greatest, but this tells you to probably pick k=5 in order to maximize the sillhouette score"
   ]
  },
  {
   "cell_type": "markdown",
   "metadata": {},
   "source": [
    "### Can also do k-medians (though not sure if the book meant k-mediods) since k-medios is where you actually pick your centroids as data-points. The book says that k-medians guarantees you get one of the data points as a centroid, don't think this is true"
   ]
  },
  {
   "cell_type": "markdown",
   "metadata": {},
   "source": [
    "### Switching the Distance Metric - Hamming Distance\n",
    "Basically count the number of mismatches between two binary vectors to get your Hamming distance"
   ]
  },
  {
   "cell_type": "markdown",
   "metadata": {},
   "source": [
    "### Handling Asymmetry\n",
    "\n",
    "From a business perspective being similiar on 1's is more important than being similiar on 0s.  If they both ordered the product, we know they both like product, whereas if someone doesn't order it, doesn't mean they don't like, they could just already have it at home etc"
   ]
  },
  {
   "cell_type": "markdown",
   "metadata": {},
   "source": [
    "See here:\n",
    "http://tutorial.math.lamar.edu/Classes/CalcII/DotProduct.aspx\n",
    "\n",
    "to see that\n",
    "\n",
    "cos theta = (a * b) / ||a|| ||b||\n",
    "\n",
    "What does that mean in our context\n",
    "\n",
    "Means Count of Matches Purchases in the Numerator\n",
    "Denominator - Square root of number of purchases in each category\n",
    "\n",
    "So this basically allows you to get a sense of how much overlap they have in terms of purchases\n",
    "\n",
    "Example (1, 0) and (1, 1)\n",
    "\n",
    "we know cos theta will be 1 / sqrt(2)\n",
    "\n",
    "Seen anothe rway\n",
    "\n",
    "a * b = 1 * 1 + 1 * 0 = 1\n",
    "sqrt(a) = 1\n",
    "sqrt(b) = sqrt(2)\n",
    "\n",
    "so equals 1 / sqrt(2)\n",
    "\n",
    "Keys:\n",
    "1. numerator allows you to count number of matches purchases only\n",
    "2. The denmiator allows you to control for factors when you get a vector that is 1 in everythigng, willb e farther away from vectors that match on the same deals\n",
    "3. cosine distance = 1 - cosine similiarity"
   ]
  }
 ],
 "metadata": {
  "kernelspec": {
   "display_name": "Python 3",
   "language": "python",
   "name": "python3"
  },
  "language_info": {
   "codemirror_mode": {
    "name": "ipython",
    "version": 3
   },
   "file_extension": ".py",
   "mimetype": "text/x-python",
   "name": "python",
   "nbconvert_exporter": "python",
   "pygments_lexer": "ipython3",
   "version": "3.6.9"
  }
 },
 "nbformat": 4,
 "nbformat_minor": 4
}
